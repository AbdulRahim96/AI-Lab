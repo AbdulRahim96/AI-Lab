{
  "cells": [
    {
      "cell_type": "markdown",
      "metadata": {
        "colab_type": "text",
        "id": "view-in-github"
      },
      "source": [
        "<a href=\"https://colab.research.google.com/github/AbdulRahim96/AI-Lab/blob/main/Lab_4.ipynb\" target=\"_parent\"><img src=\"https://colab.research.google.com/assets/colab-badge.svg\" alt=\"Open In Colab\"/></a>"
      ]
    },
    {
      "cell_type": "markdown",
      "metadata": {},
      "source": [
        "Simple Reflex Agent"
      ]
    },
    {
      "cell_type": "code",
      "execution_count": 2,
      "metadata": {
        "colab": {
          "base_uri": "https://localhost:8080/"
        },
        "id": "o6NYNIRCpJmx",
        "outputId": "a45c6711-eb34-4ce6-fab4-e3896b8f085a"
      },
      "outputs": [
        {
          "name": "stdout",
          "output_type": "stream",
          "text": [
            "\n",
            "\n",
            "Simulation for Simple Reflex Agent started for 10 minutes\n",
            "\n",
            "time passed in minutes:  0\n",
            "\t living room : Current temperature:  18\n",
            "\t living room : Thermostat setting:  18\n",
            "\n",
            "time passed in minutes:  1\n",
            "\t living room : Current temperature:  18\n",
            "\t living room : Thermostat setting:  19\n",
            "\n",
            "time passed in minutes:  2\n",
            "\t living room : Current temperature:  19\n",
            "\t living room : Thermostat setting:  20\n",
            "\n",
            "time passed in minutes:  3\n",
            "\t living room : Current temperature:  20\n",
            "\t living room : Thermostat setting:  21\n",
            "\n",
            "time passed in minutes:  4\n",
            "\t living room : Current temperature:  21\n",
            "\t living room : Thermostat setting:  21\n",
            "\n",
            "time passed in minutes:  5\n",
            "\t living room : Current temperature:  21\n",
            "\t living room : Thermostat setting:  21\n",
            "\n",
            "time passed in minutes:  6\n",
            "\t living room : Current temperature:  21\n",
            "\t living room : Thermostat setting:  21\n",
            "\n",
            "time passed in minutes:  7\n",
            "\t living room : Current temperature:  21\n",
            "\t living room : Thermostat setting:  21\n",
            "\n",
            "time passed in minutes:  8\n",
            "\t living room : Current temperature:  21\n",
            "\t living room : Thermostat setting:  21\n",
            "\n",
            "time passed in minutes:  9\n",
            "\t living room : Current temperature:  21\n",
            "\t living room : Thermostat setting:  21\n"
          ]
        },
        {
          "name": "stderr",
          "output_type": "stream",
          "text": [
            "<>:31: SyntaxWarning: \"is not\" with a literal. Did you mean \"!=\"?\n",
            "<>:31: SyntaxWarning: \"is not\" with a literal. Did you mean \"!=\"?\n",
            "C:\\Users\\rahim\\AppData\\Local\\Temp\\ipykernel_4996\\2133932778.py:31: SyntaxWarning: \"is not\" with a literal. Did you mean \"!=\"?\n",
            "  if(value is not 0):\n"
          ]
        }
      ],
      "source": [
        "class Room:\n",
        "    def __init__(self, name, initial_temp):\n",
        "        self.name = name\n",
        "        self.temp = initial_temp\n",
        "        self.thermostat = initial_temp\n",
        "    \n",
        "    def update_temp(self, val):\n",
        "        self.temp = val\n",
        "\n",
        "    def get_temp(self):\n",
        "        return self.temp\n",
        "    \n",
        "    def set_thermostat(self, val):\n",
        "        self.thermostat = val\n",
        "\n",
        "    def get_thermostat(self):\n",
        "        return self.thermostat\n",
        "    \n",
        "\n",
        "class Simple_Reflex_Agent:\n",
        "    def __init__(self, room):\n",
        "        self.room = room\n",
        "\n",
        "    def perceive_temp(self):\n",
        "        return self.room.get_temp()\n",
        "    \n",
        "    def read_theromostat(self):\n",
        "        return self.room.get_thermostat()\n",
        "    \n",
        "    def adjust_thermostat(self, value = 0):\n",
        "        if(value != 0):\n",
        "            self.room.set_thermostat(value)\n",
        "            return\n",
        "        \n",
        "        current_temperature = self.perceive_temp()\n",
        "        thermostat_setting = self.read_theromostat()\n",
        "\n",
        "        if(current_temperature > 25):\n",
        "            self.room.set_thermostat(thermostat_setting - 1)\n",
        "        elif(current_temperature < 20):\n",
        "            self.room.set_thermostat(thermostat_setting + 1)\n",
        "\n",
        "\n",
        "    def simulate(self, minutes=10):\n",
        "        print(\"\\n\\nSimulation for Simple Reflex Agent started for\", minutes, \"minutes\")\n",
        "        for i in range(minutes): # 10 iterations of the simulation in terms of minutes\n",
        "            print(\"\\ntime passed in minutes: \", i)\n",
        "            current_room_temp = self.room.get_temp()\n",
        "            current_thermostat_setting = self.room.get_thermostat()\n",
        "            print(\"\\t\", self.room.name, \": Current temperature: \", current_room_temp)\n",
        "            print(\"\\t\", self.room.name, \": Thermostat setting: \", current_thermostat_setting)\n",
        "\n",
        "            self.adjust_thermostat()\n",
        "\n",
        "            if(current_room_temp > current_thermostat_setting):\n",
        "                self.room.update_temp(current_room_temp - 1)\n",
        "            elif(current_room_temp < current_thermostat_setting):\n",
        "                self.room.update_temp(current_room_temp + 1)\n",
        "\n",
        "livingRoom = Room(\"living room\", 18)\n",
        "Agent1 = Simple_Reflex_Agent(livingRoom)\n",
        "Agent1.simulate()"
      ]
    }
  ],
  "metadata": {
    "colab": {
      "authorship_tag": "ABX9TyNjm8hBX5IveAPrNeQhhWpf",
      "include_colab_link": true,
      "provenance": []
    },
    "kernelspec": {
      "display_name": "Python 3",
      "name": "python3"
    },
    "language_info": {
      "codemirror_mode": {
        "name": "ipython",
        "version": 3
      },
      "file_extension": ".py",
      "mimetype": "text/x-python",
      "name": "python",
      "nbconvert_exporter": "python",
      "pygments_lexer": "ipython3",
      "version": "3.9.13"
    }
  },
  "nbformat": 4,
  "nbformat_minor": 0
}
