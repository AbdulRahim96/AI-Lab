{
  "cells": [
    {
      "cell_type": "markdown",
      "metadata": {
        "id": "jIoEZAKi37fz"
      },
      "source": [
        "[<img src=\"http://cloud.blobcity.net/assets/images/badge.png\" height=\"25\" style=\"margin-bottom:-15px\" />](https://cloud.blobcity.com/#/ps/shared-cloudbook/66c4fcaa-b0e4-4e0a-b275-49cdf007667a)\n",
        "\n",
        "# Tuple\n",
        "\n",
        "A tuple is a sequence of Python objects. It is immutable, which means it cannot be changed once created. It can hold objects of any type, including holding other tuples."
      ]
    },
    {
      "cell_type": "code",
      "execution_count": null,
      "metadata": {
        "id": "hSr2_Vdi37f2",
        "outputId": "4469ac95-ffaa-4b87-b93b-ffe07ee5caba"
      },
      "outputs": [
        {
          "name": "stdout",
          "output_type": "stream",
          "text": [
            "(1, 2, 3)\n"
          ]
        }
      ],
      "source": [
        "tup = 1,2,3  # Defines a tuple with 3 values\n",
        "\n",
        "print(tup)"
      ]
    },
    {
      "cell_type": "code",
      "execution_count": null,
      "metadata": {
        "id": "tvnugizm37f5",
        "outputId": "be13e0a1-cd29-4475-b436-c689339c1785"
      },
      "outputs": [
        {
          "name": "stdout",
          "output_type": "stream",
          "text": [
            "(1, 2, 3)\n"
          ]
        }
      ],
      "source": [
        "tup = (1,2,3) # Can also be defined this way. Sometimes offers better readability\n",
        "\n",
        "print(tup)"
      ]
    },
    {
      "cell_type": "code",
      "execution_count": 1,
      "metadata": {
        "colab": {
          "base_uri": "https://localhost:8080/",
          "height": 0
        },
        "id": "SvFhW56P37f6",
        "outputId": "39977a1e-55c2-44ba-b24c-1d363c2f4cf0"
      },
      "outputs": [
        {
          "name": "stdout",
          "output_type": "stream",
          "text": [
            "(1, 2, 3)\n"
          ]
        }
      ],
      "source": [
        "tup_nested = (1,2,3),(4,5) #This is a nested tuple\n",
        "\n",
        "print(tup_nested[0])"
      ]
    },
    {
      "cell_type": "markdown",
      "metadata": {
        "id": "ZNHgJEAx37f7"
      },
      "source": [
        "The above example shows how one tuple can be included in another tuple. This is perfectly normal in Python as a tuple can store an object of any type, including an object of type tuple itself.\n",
        "\n",
        "One can also convert any sequence into a tuple."
      ]
    },
    {
      "cell_type": "code",
      "execution_count": null,
      "metadata": {
        "colab": {
          "base_uri": "https://localhost:8080/"
        },
        "id": "4n17enNJ37f8",
        "outputId": "2591a8dd-af24-4bc5-8dd4-643024f46676"
      },
      "outputs": [
        {
          "name": "stdout",
          "output_type": "stream",
          "text": [
            "(1, 2, 3)\n"
          ]
        }
      ],
      "source": [
        "num = [1,2,3]\n",
        "tup = tuple(num)\n",
        "\n",
        "print(tup)"
      ]
    },
    {
      "cell_type": "markdown",
      "metadata": {
        "id": "5khPLvHi37f8"
      },
      "source": [
        "The above example shows converting an array in a tuple.\n",
        "\n",
        "A string in general is also a sequence of characters. It can be converted into a tuple too, just as any other sequence."
      ]
    },
    {
      "cell_type": "code",
      "execution_count": null,
      "metadata": {
        "id": "sWPtKKsO37f8",
        "outputId": "bde58598-b7a2-42be-a092-bb720b57759f"
      },
      "outputs": [
        {
          "name": "stdout",
          "output_type": "stream",
          "text": [
            "('h', 'e', 'l', 'l', 'o')\n"
          ]
        }
      ],
      "source": [
        "tup = tuple('hello')\n",
        "\n",
        "print(tup)"
      ]
    },
    {
      "cell_type": "markdown",
      "metadata": {
        "id": "c3fOhHAE37f8"
      },
      "source": [
        "How do you access elements of a Tuple? We do it just like any other sequence type."
      ]
    },
    {
      "cell_type": "code",
      "execution_count": null,
      "metadata": {
        "id": "OK6mYjLP37f9",
        "outputId": "4993dc45-56ab-4e6c-c5cb-607876d47a91"
      },
      "outputs": [
        {
          "data": {
            "text/plain": [
              "'h'"
            ]
          },
          "execution_count": 6,
          "metadata": {},
          "output_type": "execute_result"
        }
      ],
      "source": [
        "tup[0]"
      ]
    },
    {
      "cell_type": "markdown",
      "metadata": {
        "id": "YNKp92QS37f9"
      },
      "source": [
        "Indexes in Python start from `0` like most other programming languages. So `tup[0]` gets us the first element in tuple.\n",
        "\n",
        "A tuple does not necessarily have to be homogeneous. It can be hetrogeneous in nature. This means it can store objects of different types."
      ]
    },
    {
      "cell_type": "code",
      "execution_count": null,
      "metadata": {
        "id": "AmyzZvjf37f9",
        "outputId": "15b6dd3c-9035-4393-a965-76138ff8ae65"
      },
      "outputs": [
        {
          "name": "stdout",
          "output_type": "stream",
          "text": [
            "('hello', [1, 2, 3], (4, 5, 6), True)\n"
          ]
        }
      ],
      "source": [
        "tup = 'hello', [1,2,3], (4,5,6), True\n",
        "\n",
        "print(tup)"
      ]
    },
    {
      "cell_type": "code",
      "execution_count": null,
      "metadata": {
        "id": "kIMgZSTu37f9",
        "outputId": "ec51e106-2330-46c1-9c6f-90a99b04239e"
      },
      "outputs": [
        {
          "name": "stdout",
          "output_type": "stream",
          "text": [
            "('hello', [1, 2, 3], (4, 5, 6), True)\n"
          ]
        }
      ],
      "source": [
        "tup = tuple(['hello', [1,2,3], (4,5,6), True]) #Also written as this\n",
        "\n",
        "print(tup)"
      ]
    },
    {
      "cell_type": "markdown",
      "metadata": {
        "id": "CbjPvr4037f-"
      },
      "source": [
        "A tuple itself is immutable, but if an object inside a tuple is mutable, it can be done so by directly mutating the object in-place."
      ]
    },
    {
      "cell_type": "code",
      "execution_count": null,
      "metadata": {
        "id": "TWeSXhUv37f-",
        "outputId": "bfe9b24b-80b3-42cf-f771-37a5e76d568b"
      },
      "outputs": [
        {
          "name": "stdout",
          "output_type": "stream",
          "text": [
            "('hello', [1, 2, 3, 4], (4, 5, 6), True)\n"
          ]
        }
      ],
      "source": [
        "tup[1].append(4)\n",
        "\n",
        "print(tup)"
      ]
    },
    {
      "cell_type": "markdown",
      "metadata": {
        "id": "eAam5qBH37f-"
      },
      "source": [
        "However, `tup[2].append(4)` would now work, as at index 2 we have a tuple. Index 1 was an array / list so the append operation worked."
      ]
    },
    {
      "cell_type": "markdown",
      "metadata": {
        "id": "IjF7fySh37f-"
      },
      "source": [
        "## Concatenating Tuples\n",
        "\n",
        "While tuples by themselves are immutable, we can concatenate two different tuples to make longer tuples."
      ]
    },
    {
      "cell_type": "code",
      "execution_count": null,
      "metadata": {
        "id": "aouboXlT37f_",
        "outputId": "6a9c258a-cd77-41e1-c987-6bbcbdc82d5a"
      },
      "outputs": [
        {
          "name": "stdout",
          "output_type": "stream",
          "text": [
            "(1, 2, 3, 4, 5, 6)\n"
          ]
        }
      ],
      "source": [
        "tup1 = 1,2,3\n",
        "tup2 = 4,5,6\n",
        "\n",
        "tup3 = tup1 + tup2\n",
        "\n",
        "print(tup3)"
      ]
    },
    {
      "cell_type": "markdown",
      "metadata": {
        "id": "yIliiaU437f_"
      },
      "source": [
        "By using just the `+` operator, you can concatenate tuples to create a longer tuple.\n",
        "\n",
        "## Multiplying Tuples\n",
        "\n",
        "One can multiple the tuple to create a large tuple."
      ]
    },
    {
      "cell_type": "code",
      "execution_count": null,
      "metadata": {
        "id": "e2EYW-Ch37f_",
        "outputId": "975eceec-445c-4aff-fddc-f1845acf6218"
      },
      "outputs": [
        {
          "name": "stdout",
          "output_type": "stream",
          "text": [
            "(1, 2, 1, 2, 1, 2, 1, 2)\n"
          ]
        }
      ],
      "source": [
        "tup = 1,2\n",
        "tup = tup * 4\n",
        "\n",
        "print(tup)"
      ]
    },
    {
      "cell_type": "markdown",
      "metadata": {
        "id": "km3svTMB37f_"
      },
      "source": [
        "We can see that multiplying the tuple by 4, we have caused the tuple to expand itself into 4 times its original size. All values inside the tuple get replicated 4 times with this operation.\n",
        "\n",
        "## Unpacking Tuples\n",
        "In a single line of code, we can extract all the values present within the tuple."
      ]
    },
    {
      "cell_type": "code",
      "execution_count": 2,
      "metadata": {
        "colab": {
          "base_uri": "https://localhost:8080/",
          "height": 0
        },
        "id": "Xaf32cFY37gA",
        "outputId": "943d247d-3273-4879-8a9a-bbbf35064163"
      },
      "outputs": [
        {
          "name": "stdout",
          "output_type": "stream",
          "text": [
            "1\n",
            "2\n",
            "3\n"
          ]
        }
      ],
      "source": [
        "tup = 1,2,3\n",
        "\n",
        "a,b,c = tup #Unpacks the Tuple\n",
        "\n",
        "print(a)\n",
        "print(b)\n",
        "print(c)"
      ]
    },
    {
      "cell_type": "markdown",
      "metadata": {
        "id": "IifaOdkA37gA"
      },
      "source": [
        "Unpacking hetrogeneous tuples is also possible. The variables have to be provided in the approrpiate manner, else the operation will fail."
      ]
    },
    {
      "cell_type": "code",
      "execution_count": 5,
      "metadata": {
        "colab": {
          "base_uri": "https://localhost:8080/",
          "height": 0
        },
        "id": "NpEA9tAe37gA",
        "outputId": "6a19a8a3-d47c-47fe-94b6-2a0045289e49"
      },
      "outputs": [
        {
          "name": "stdout",
          "output_type": "stream",
          "text": [
            "(2, 3)\n"
          ]
        }
      ],
      "source": [
        "tup = 1,(2,3),(4,5)\n",
        "\n",
        "a,b,(d,e) = tup\n",
        "\n",
        "print(b)\n",
        "# print(c)"
      ]
    },
    {
      "cell_type": "markdown",
      "metadata": {
        "id": "XuxAPZGv37gA"
      },
      "source": [
        "Since we had a tuple inside the tuple, we put `(d,e)` within the round brackets. Python would not be able to extract the value of 4 & 5 without this syntax. Let's try another way just to be clear."
      ]
    },
    {
      "cell_type": "code",
      "execution_count": null,
      "metadata": {
        "id": "zdnNNs2037gB",
        "outputId": "310f144c-cde8-4034-b110-30d8d58b8023"
      },
      "outputs": [
        {
          "name": "stdout",
          "output_type": "stream",
          "text": [
            "(4, 5)\n"
          ]
        }
      ],
      "source": [
        "tup = 1,2,3,(4,5)\n",
        "\n",
        "a,b,c,x = tup\n",
        "\n",
        "print(x)"
      ]
    },
    {
      "cell_type": "markdown",
      "metadata": {
        "id": "UvSQQgh937gB"
      },
      "source": [
        "The above example extracts the inner tuple and set it to the varaible `x`. It is important to note that it did not extract the value of `4` and set it to `x`. It instead extracted the entire tuple `(4,5)`\n",
        "\n",
        "The unpacking of tuples works within for loops as well. It is a common practice to unpack when iterating over sequences in a for loop."
      ]
    },
    {
      "cell_type": "code",
      "execution_count": null,
      "metadata": {
        "id": "421krIbW37gB",
        "outputId": "1e69602d-228c-437b-c67c-6bdcf49390b3"
      },
      "outputs": [
        {
          "name": "stdout",
          "output_type": "stream",
          "text": [
            "1 , 2\n",
            "3 , 4\n",
            "5 , 6\n"
          ]
        }
      ],
      "source": [
        "array = [(1,2), (3,4), (5,6)]\n",
        "for a, b in array:\n",
        "    print(a, ',', b)"
      ]
    },
    {
      "cell_type": "markdown",
      "metadata": {
        "id": "UOxRYwKg37gB"
      },
      "source": [
        "If we have an array or a sequence of tuples, and we want to iterate through it by extracting the individual elements of the tuple, the above code allows just that.\n",
        "\n",
        "In your journey with Python, you might encounter such complex extraction patterns. It is important to fully understand and practice these."
      ]
    },
    {
      "cell_type": "markdown",
      "metadata": {
        "id": "IKHAVQfA37gC"
      },
      "source": [
        "## Pluck a few elements\n",
        "\n",
        "Some of the most recent additions in Python, allow for plucking out a few values from the beginning of the tuple. The below example shows just how it is done."
      ]
    },
    {
      "cell_type": "code",
      "execution_count": 7,
      "metadata": {
        "colab": {
          "base_uri": "https://localhost:8080/",
          "height": 0
        },
        "id": "QGegIhKW37gC",
        "outputId": "10bde42c-1fb8-4097-bbf8-2526dc624b7d"
      },
      "outputs": [
        {
          "name": "stdout",
          "output_type": "stream",
          "text": [
            "1\n",
            "2\n",
            "[3, 4, 5]\n"
          ]
        }
      ],
      "source": [
        "tup = 1,2,3,4,5\n",
        "\n",
        "a, b, *others = tup\n",
        "\n",
        "print(a)\n",
        "print(b)\n",
        "print(others)"
      ]
    },
    {
      "cell_type": "markdown",
      "metadata": {
        "id": "IpM9zNLk37gC"
      },
      "source": [
        "If we don't care about `others`, then we can also use an `_` to ignore the trailing values"
      ]
    },
    {
      "cell_type": "code",
      "execution_count": null,
      "metadata": {
        "id": "R8bNe5Mp37gC",
        "outputId": "03af5510-acb7-4235-ffed-fbe327c968eb"
      },
      "outputs": [
        {
          "name": "stdout",
          "output_type": "stream",
          "text": [
            "1\n",
            "2\n"
          ]
        }
      ],
      "source": [
        "a, b, *_ = tup\n",
        "\n",
        "print(a)\n",
        "print(b)"
      ]
    },
    {
      "cell_type": "markdown",
      "metadata": {
        "id": "aYKoueww37gD"
      },
      "source": [
        "## Methods on the tuple object\n",
        "\n",
        "The tuple object offers some built-in methods for quick operations."
      ]
    },
    {
      "cell_type": "code",
      "execution_count": null,
      "metadata": {
        "colab": {
          "base_uri": "https://localhost:8080/"
        },
        "id": "RTFV6nK-37gD",
        "outputId": "9c31f73b-8d7d-4e34-99ff-b8a3ed65196d"
      },
      "outputs": [
        {
          "name": "stdout",
          "output_type": "stream",
          "text": [
            "3\n"
          ]
        }
      ],
      "source": [
        "tup = 1,2,1,1,3\n",
        "\n",
        "print(tup.count(1))"
      ]
    },
    {
      "cell_type": "markdown",
      "metadata": {
        "id": "N-_STbHV37gD"
      },
      "source": [
        "The count method counts the number of times a specific element occurs within a tuple. Since the tuple is immutable, a count operation on a tuple is generally faster than the count operation on a list / array.\n",
        "\n",
        "The tuple provides a second method called `index`. Unlike `count`, the `index` method gets the first index of occurances of the specified value. We can see this in the below example."
      ]
    },
    {
      "cell_type": "code",
      "execution_count": null,
      "metadata": {
        "id": "uEVZKHdu37gD",
        "outputId": "5a5aa9c5-aa3c-4055-f826-162c91a11d6c"
      },
      "outputs": [
        {
          "name": "stdout",
          "output_type": "stream",
          "text": [
            "First index of 1: 0\n",
            "First index of 2: 1\n",
            "First index of 3: 4\n"
          ]
        }
      ],
      "source": [
        "print('First index of 1:', tup.index(1))\n",
        "print('First index of 2:', tup.index(2))\n",
        "print('First index of 3:', tup.index(3))"
      ]
    },
    {
      "cell_type": "markdown",
      "metadata": {
        "id": "KtIZgMb137gD"
      },
      "source": [
        "***\n",
        "Copyright (c) 2020, BlobCity, Inc."
      ]
    },
    {
      "cell_type": "markdown",
      "metadata": {
        "id": "hQpRxy2w658F"
      },
      "source": [
        "**Lab_Task** You're analyzing a tuple named monthly_sales, which contains the daily sales figures for a particular product for an entire month. Your task is to focus on the sales performance during the second half of the month. However, due to the nature of the data, the sales figures might not be evenly distributed throughout the month.\n",
        "\n",
        "Examine the provided sales data and determine which days correspond to the second half of the month.\n",
        "Utilize negative indexing for slicing to extract the sales figures for the identified days in the second half of the month.\n",
        "Calculate the total sales for the second half of the month.\n",
        "Provide a brief explanation of how you identified the days in the second half of the month and discuss the importance of analyzing sales performance during this period.\n",
        "Write a Python code snippet to accomplish these tasks and display the total sales for the second half of the month."
      ]
    },
    {
      "cell_type": "code",
      "execution_count": 8,
      "metadata": {
        "id": "iYf62xMl67oK"
      },
      "outputs": [],
      "source": [
        "monthly_sales = (1200, 1500, 1400, 1600, 1800, 1900, 2000, 2200, 2100, 2300, 2400, 2500, 2600, 2700, 2800, 2900, 3000, 3100, 3200, 3300, 3400, 3500, 3600, 3700, 3800, 3900, 4000, 4100, 4200, 4300)monthly_sales"
      ]
    },
    {
      "cell_type": "code",
      "execution_count": 9,
      "metadata": {
        "colab": {
          "base_uri": "https://localhost:8080/"
        },
        "id": "eMx7uwU7Sbcr",
        "outputId": "2ad2e566-b326-4e70-b930-460b18a89b08"
      },
      "outputs": [
        {
          "name": "stdout",
          "output_type": "stream",
          "text": [
            "30\n"
          ]
        }
      ],
      "source": [
        "print(len(monthly_sales))"
      ]
    }
  ],
  "metadata": {
    "colab": {
      "provenance": []
    },
    "kernelspec": {
      "display_name": "Python 3",
      "language": "python",
      "name": "python3"
    },
    "language_info": {
      "codemirror_mode": {
        "name": "ipython",
        "version": 3
      },
      "file_extension": ".py",
      "mimetype": "text/x-python",
      "name": "python",
      "nbconvert_exporter": "python",
      "pygments_lexer": "ipython3",
      "version": "3.8.4"
    }
  },
  "nbformat": 4,
  "nbformat_minor": 0
}
