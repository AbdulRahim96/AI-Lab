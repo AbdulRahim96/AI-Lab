{
  "cells": [
    {
      "cell_type": "markdown",
      "id": "fd8944f8",
      "metadata": {
        "id": "fd8944f8"
      },
      "source": [
        "# Classes and Objects"
      ]
    },
    {
      "cell_type": "code",
      "execution_count": null,
      "id": "16d07629",
      "metadata": {
        "id": "16d07629"
      },
      "outputs": [],
      "source": [
        "class DemoClass:\n",
        "    a=2;\n",
        "\n",
        "    def sum(self):\n",
        "        print(2+4);"
      ]
    },
    {
      "cell_type": "code",
      "execution_count": null,
      "id": "2a034f45",
      "metadata": {
        "id": "2a034f45"
      },
      "outputs": [],
      "source": [
        "Ali = DemoClass()\n",
        "Hamza = DemoClass()"
      ]
    },
    {
      "cell_type": "code",
      "execution_count": null,
      "id": "7026134a",
      "metadata": {
        "id": "7026134a",
        "outputId": "837cbd1b-1c66-4519-c9ac-802a4c604afb"
      },
      "outputs": [
        {
          "name": "stdout",
          "output_type": "stream",
          "text": [
            "2\n",
            "50\n"
          ]
        }
      ],
      "source": [
        "print(Ali.a)\n",
        "Hamza.a = 50\n",
        "print(Hamza.a)"
      ]
    },
    {
      "cell_type": "code",
      "execution_count": null,
      "id": "c731f84a",
      "metadata": {
        "id": "c731f84a",
        "outputId": "7eb8a20c-a3c0-4b04-8218-707c80226eb9"
      },
      "outputs": [
        {
          "name": "stdout",
          "output_type": "stream",
          "text": [
            "6\n"
          ]
        }
      ],
      "source": [
        "Hamza.sum()"
      ]
    },
    {
      "cell_type": "markdown",
      "id": "b7b597a1",
      "metadata": {
        "id": "b7b597a1"
      },
      "source": [
        "# Methods and Constructors"
      ]
    },
    {
      "cell_type": "code",
      "execution_count": null,
      "id": "afb12a82",
      "metadata": {
        "colab": {
          "base_uri": "https://localhost:8080/",
          "height": 297
        },
        "id": "afb12a82",
        "outputId": "56de68fe-759c-4de2-e078-cf00af60510e"
      },
      "outputs": [
        {
          "output_type": "error",
          "ename": "NameError",
          "evalue": "name 'a' is not defined",
          "traceback": [
            "\u001b[0;31m---------------------------------------------------------------------------\u001b[0m",
            "\u001b[0;31mNameError\u001b[0m                                 Traceback (most recent call last)",
            "\u001b[0;32m<ipython-input-4-38714460e7ae>\u001b[0m in \u001b[0;36m<cell line: 7>\u001b[0;34m()\u001b[0m\n\u001b[1;32m      5\u001b[0m \u001b[0;34m\u001b[0m\u001b[0m\n\u001b[1;32m      6\u001b[0m \u001b[0mc\u001b[0m \u001b[0;34m=\u001b[0m \u001b[0mClassTwo\u001b[0m\u001b[0;34m(\u001b[0m\u001b[0;34m)\u001b[0m\u001b[0;34m\u001b[0m\u001b[0;34m\u001b[0m\u001b[0m\n\u001b[0;32m----> 7\u001b[0;31m \u001b[0mc\u001b[0m\u001b[0;34m.\u001b[0m\u001b[0mShow_value\u001b[0m\u001b[0;34m(\u001b[0m\u001b[0;34m)\u001b[0m\u001b[0;34m\u001b[0m\u001b[0;34m\u001b[0m\u001b[0m\n\u001b[0m",
            "\u001b[0;32m<ipython-input-4-38714460e7ae>\u001b[0m in \u001b[0;36mShow_value\u001b[0;34m(self)\u001b[0m\n\u001b[1;32m      2\u001b[0m     \u001b[0ma\u001b[0m \u001b[0;34m=\u001b[0m \u001b[0;36m20\u001b[0m\u001b[0;34m\u001b[0m\u001b[0;34m\u001b[0m\u001b[0m\n\u001b[1;32m      3\u001b[0m     \u001b[0;32mdef\u001b[0m \u001b[0mShow_value\u001b[0m\u001b[0;34m(\u001b[0m\u001b[0mself\u001b[0m\u001b[0;34m)\u001b[0m\u001b[0;34m:\u001b[0m\u001b[0;34m\u001b[0m\u001b[0;34m\u001b[0m\u001b[0m\n\u001b[0;32m----> 4\u001b[0;31m         \u001b[0mprint\u001b[0m\u001b[0;34m(\u001b[0m\u001b[0ma\u001b[0m\u001b[0;34m)\u001b[0m\u001b[0;34m\u001b[0m\u001b[0;34m\u001b[0m\u001b[0m\n\u001b[0m\u001b[1;32m      5\u001b[0m \u001b[0;34m\u001b[0m\u001b[0m\n\u001b[1;32m      6\u001b[0m \u001b[0mc\u001b[0m \u001b[0;34m=\u001b[0m \u001b[0mClassTwo\u001b[0m\u001b[0;34m(\u001b[0m\u001b[0;34m)\u001b[0m\u001b[0;34m\u001b[0m\u001b[0;34m\u001b[0m\u001b[0m\n",
            "\u001b[0;31mNameError\u001b[0m: name 'a' is not defined"
          ]
        }
      ],
      "source": [
        "class ClassTwo:\n",
        "    a = 20\n",
        "    def Show_value(self):\n",
        "        print(a)\n",
        "\n",
        "c = ClassTwo()\n",
        "c.Show_value()"
      ]
    },
    {
      "cell_type": "code",
      "execution_count": null,
      "id": "b95641f7",
      "metadata": {
        "colab": {
          "base_uri": "https://localhost:8080/"
        },
        "id": "b95641f7",
        "outputId": "03cb0a82-de5e-4954-a93c-078b0fcd4cb4"
      },
      "outputs": [
        {
          "output_type": "stream",
          "name": "stdout",
          "text": [
            "20\n"
          ]
        }
      ],
      "source": [
        "class ClassTwo:\n",
        "    a = 20\n",
        "    def Show_value(self):\n",
        "        print(self.a)\n",
        "\n",
        "c = ClassTwo()\n",
        "c.Show_value()"
      ]
    },
    {
      "cell_type": "code",
      "execution_count": null,
      "id": "e7cb8e60",
      "metadata": {
        "id": "e7cb8e60",
        "outputId": "e65544dc-151b-4070-f309-ccb6b616955d"
      },
      "outputs": [
        {
          "name": "stdout",
          "output_type": "stream",
          "text": [
            "46656\n"
          ]
        }
      ],
      "source": [
        "class ClassTwo:\n",
        "    a = 6\n",
        "    def Compute(self):\n",
        "        self.c = self.a ** self.a\n",
        "        print(self.c)\n",
        "\n",
        "c = ClassTwo()\n",
        "c.Compute()"
      ]
    },
    {
      "cell_type": "code",
      "execution_count": null,
      "id": "9591a9a4",
      "metadata": {
        "colab": {
          "base_uri": "https://localhost:8080/"
        },
        "id": "9591a9a4",
        "outputId": "0721f5df-1ebb-4f5a-8410-02c1187da402"
      },
      "outputs": [
        {
          "output_type": "stream",
          "name": "stdout",
          "text": [
            "8\n"
          ]
        }
      ],
      "source": [
        "class ClassThree:\n",
        "    def Compute(self,d,e):\n",
        "        self.c = d ** e\n",
        "        print(self.c)\n",
        "\n",
        "c = ClassThree()\n",
        "c.Compute(2,3)"
      ]
    },
    {
      "cell_type": "markdown",
      "id": "23056079",
      "metadata": {
        "id": "23056079"
      },
      "source": [
        "### constructors"
      ]
    },
    {
      "cell_type": "code",
      "execution_count": null,
      "id": "5f19ef64",
      "metadata": {
        "id": "5f19ef64"
      },
      "outputs": [],
      "source": [
        "class ClassFour:\n",
        "    def __init__(self):\n",
        "        print(\"Welcome to Constructor\")"
      ]
    },
    {
      "cell_type": "code",
      "execution_count": null,
      "id": "c828d009",
      "metadata": {
        "colab": {
          "base_uri": "https://localhost:8080/"
        },
        "id": "c828d009",
        "outputId": "92967d94-df9b-4630-fb5e-5f43d704b59f"
      },
      "outputs": [
        {
          "output_type": "stream",
          "name": "stdout",
          "text": [
            "Welcome to Constructor\n"
          ]
        }
      ],
      "source": [
        "s =  ClassFour()"
      ]
    },
    {
      "cell_type": "markdown",
      "id": "788a23ae",
      "metadata": {
        "id": "788a23ae"
      },
      "source": [
        "# Inheritance"
      ]
    },
    {
      "cell_type": "code",
      "execution_count": null,
      "id": "0475f9fd",
      "metadata": {
        "id": "0475f9fd",
        "outputId": "45fb594b-dc2f-41a7-ba7e-8dff00238afa"
      },
      "outputs": [
        {
          "name": "stdout",
          "output_type": "stream",
          "text": [
            "Iam Function of Class A\n",
            "Iam Function of Class B\n"
          ]
        }
      ],
      "source": [
        "#Single Level Inheritance\n",
        "\n",
        "class A:\n",
        "    def DisplayA(self):\n",
        "        print(\"Iam Function of Class A\")\n",
        "\n",
        "class B(A):\n",
        "    def DisplayB(self):\n",
        "        print(\"Iam Function of Class B\")\n",
        "\n",
        "obj = B()\n",
        "obj.DisplayA()\n",
        "obj.DisplayB()"
      ]
    },
    {
      "cell_type": "code",
      "execution_count": null,
      "id": "8a5ff96a",
      "metadata": {
        "id": "8a5ff96a",
        "outputId": "1eeb8441-d74e-4cf6-9104-bbf57adc04f1"
      },
      "outputs": [
        {
          "name": "stdout",
          "output_type": "stream",
          "text": [
            "Iam Function of Class A\n",
            "Iam Function of Class B\n",
            "Iam Function of Class C\n"
          ]
        }
      ],
      "source": [
        "#Multi-Level Inheritance\n",
        "class A:\n",
        "    def DisplayA(self):\n",
        "        print(\"Iam Function of Class A\")\n",
        "\n",
        "class B(A):\n",
        "    def DisplayB(self):\n",
        "        print(\"Iam Function of Class B\")\n",
        "\n",
        "class C(B):\n",
        "    def DisplayC(self):\n",
        "        print(\"Iam Function of Class C\")\n",
        "\n",
        "\n",
        "obj = C()\n",
        "obj.DisplayA()\n",
        "obj.DisplayB()\n",
        "obj.DisplayC()"
      ]
    },
    {
      "cell_type": "code",
      "execution_count": null,
      "id": "8d7c93bc",
      "metadata": {
        "id": "8d7c93bc",
        "outputId": "6fb6dc85-54be-44f5-9c9c-16501893f5ec"
      },
      "outputs": [
        {
          "name": "stdout",
          "output_type": "stream",
          "text": [
            "Iam Function of Class A\n",
            "Iam Function of Class B\n",
            "Iam Function of Class C\n"
          ]
        }
      ],
      "source": [
        "#Multiple Inheritance\n",
        "class A:\n",
        "    def DisplayA(self):\n",
        "        print(\"Iam Function of Class A\")\n",
        "\n",
        "class B:\n",
        "    def DisplayB(self):\n",
        "        print(\"Iam Function of Class B\")\n",
        "\n",
        "class C(A,B):\n",
        "    def DisplayC(self):\n",
        "        print(\"Iam Function of Class C\")\n",
        "\n",
        "\n",
        "obj = C()\n",
        "obj.DisplayA()\n",
        "obj.DisplayB()\n",
        "obj.DisplayC()"
      ]
    },
    {
      "cell_type": "code",
      "execution_count": null,
      "id": "f569cc87",
      "metadata": {
        "id": "f569cc87"
      },
      "outputs": [],
      "source": [
        "#Encapsulation"
      ]
    },
    {
      "cell_type": "markdown",
      "id": "57bdb489",
      "metadata": {
        "id": "57bdb489"
      },
      "source": [
        "Encapsulation in Python\n",
        "Encapsulation is achieved in Python through the use of classes. A class is a blueprint for creating objects, and it defines the properties and behaviors of an object. In Python, encapsulation is achieved through the use of access modifiers and getter and setter methods.\n",
        "\n",
        "A. Defining classes in Python\n",
        "\n",
        "In Python, classes are defined using the “class” keyword followed by the name of the class. The class definition can contain class variables and methods.\n",
        "\n",
        "Public access\n",
        "\n",
        "Public variables and methods are those that can be accessed by any part of the program. In Python, variables and methods are public by default, and they do not require any special keyword to be declared as public."
      ]
    },
    {
      "cell_type": "code",
      "execution_count": null,
      "id": "e8f656a2",
      "metadata": {
        "id": "e8f656a2"
      },
      "outputs": [],
      "source": [
        "class Car:\n",
        "    color = \"red\"\n",
        "\n",
        "    def start(self):\n",
        "        print(\"Car started!\")"
      ]
    },
    {
      "cell_type": "raw",
      "id": "dfcc5be0",
      "metadata": {
        "id": "dfcc5be0"
      },
      "source": [
        "Private access\n",
        "\n",
        "Private variables and methods are those that can only be accessed within the class. In Python, private variables and methods are declared by prefixing them with double underscores (__)."
      ]
    },
    {
      "cell_type": "code",
      "execution_count": null,
      "id": "e741a640",
      "metadata": {
        "id": "e741a640"
      },
      "outputs": [],
      "source": [
        "\n",
        "class Car:\n",
        "    __engine_capacity = \"2000cc\"\n",
        "\n",
        "    def __start_engine(self):\n",
        "        print(\"Engine started!\")\n"
      ]
    },
    {
      "cell_type": "raw",
      "id": "48cff3b1",
      "metadata": {
        "id": "48cff3b1"
      },
      "source": [
        "Protected access\n",
        "\n",
        "Protected variables and methods are those that can be accessed within the class and its subclasses. In Python, protected variables and methods are declared by prefixing them with a single underscore (_).\n",
        "\n",
        "Example:"
      ]
    },
    {
      "cell_type": "code",
      "execution_count": null,
      "id": "c3a53ead",
      "metadata": {
        "id": "c3a53ead"
      },
      "outputs": [],
      "source": [
        "\n",
        "class Car:\n",
        "    _mileage = 0\n",
        "\n",
        "    def _drive(self):\n",
        "        self._mileage += 10\n"
      ]
    },
    {
      "cell_type": "raw",
      "id": "f493c4a2",
      "metadata": {
        "id": "f493c4a2"
      },
      "source": [
        "Private access modifier\n",
        "\n",
        "As mentioned earlier, private variables and methods in Python are declared by prefixing them with double underscores (__). Private variables cannot be accessed outside the class, and private methods can only be called from within the class.\n",
        "\n",
        "Example:"
      ]
    },
    {
      "cell_type": "code",
      "execution_count": null,
      "id": "322d4be9",
      "metadata": {
        "colab": {
          "base_uri": "https://localhost:8080/",
          "height": 211
        },
        "id": "322d4be9",
        "outputId": "3ed5039a-c445-4e5c-ea8a-6a865352a706"
      },
      "outputs": [
        {
          "output_type": "error",
          "ename": "AttributeError",
          "evalue": "'Person' object has no attribute '__name'",
          "traceback": [
            "\u001b[0;31m---------------------------------------------------------------------------\u001b[0m",
            "\u001b[0;31mAttributeError\u001b[0m                            Traceback (most recent call last)",
            "\u001b[0;32m<ipython-input-12-01161061832e>\u001b[0m in \u001b[0;36m<cell line: 8>\u001b[0;34m()\u001b[0m\n\u001b[1;32m      6\u001b[0m \u001b[0;34m\u001b[0m\u001b[0m\n\u001b[1;32m      7\u001b[0m \u001b[0mp\u001b[0m \u001b[0;34m=\u001b[0m \u001b[0mPerson\u001b[0m\u001b[0;34m(\u001b[0m\u001b[0;34m)\u001b[0m\u001b[0;34m\u001b[0m\u001b[0;34m\u001b[0m\u001b[0m\n\u001b[0;32m----> 8\u001b[0;31m \u001b[0mp\u001b[0m\u001b[0;34m.\u001b[0m\u001b[0m__name\u001b[0m \u001b[0;31m# this will give an error as __name is a private variable\u001b[0m\u001b[0;34m\u001b[0m\u001b[0;34m\u001b[0m\u001b[0m\n\u001b[0m\u001b[1;32m      9\u001b[0m \u001b[0mp\u001b[0m\u001b[0;34m.\u001b[0m\u001b[0m__greet\u001b[0m\u001b[0;34m(\u001b[0m\u001b[0;34m)\u001b[0m \u001b[0;31m# this will give an error as __greet is a private method\u001b[0m\u001b[0;34m\u001b[0m\u001b[0;34m\u001b[0m\u001b[0m\n\u001b[1;32m     10\u001b[0m \u001b[0;31m# Protected access modifier\u001b[0m\u001b[0;34m\u001b[0m\u001b[0;34m\u001b[0m\u001b[0m\n",
            "\u001b[0;31mAttributeError\u001b[0m: 'Person' object has no attribute '__name'"
          ]
        }
      ],
      "source": [
        "\n",
        "class Person:\n",
        "    __name = \"John\"\n",
        "\n",
        "    def __greet(self):\n",
        "        print(\"Hello, my name is\", self.__name)\n",
        "\n",
        "p = Person()\n",
        "p.__name # this will give an error as __name is a private variable\n",
        "p.__greet() # this will give an error as __greet is a private method\n",
        "# Protected access modifier"
      ]
    },
    {
      "cell_type": "raw",
      "id": "7a163240",
      "metadata": {
        "id": "7a163240"
      },
      "source": [
        "Protected variables and methods in Python are declared by prefixing them with a single underscore (_). Protected variables can be accessed within the class and its subclasses, but they cannot be accessed outside the class hierarchy.\n",
        "\n",
        "Example:"
      ]
    },
    {
      "cell_type": "code",
      "execution_count": null,
      "id": "22d1493f",
      "metadata": {
        "colab": {
          "base_uri": "https://localhost:8080/"
        },
        "id": "22d1493f",
        "outputId": "bde15c21-8480-4622-9a13-e3773d293509"
      },
      "outputs": [
        {
          "output_type": "stream",
          "name": "stdout",
          "text": [
            "4\n",
            "Animal is walking\n"
          ]
        }
      ],
      "source": [
        "\n",
        "class Animal:\n",
        "    _legs = 4\n",
        "\n",
        "    def _walk(self):\n",
        "        print(\"Animal is walking\")\n",
        "\n",
        "class Dog(Animal):\n",
        "    def bark(self):\n",
        "        print(\"Woof!\")\n",
        "\n",
        "d = Dog()\n",
        "print(d._legs) # this will print 4 as _legs is a protected variable\n",
        "d._walk() # this will call the _walk method from the Animal class\n",
        "# Public access modifier"
      ]
    },
    {
      "cell_type": "raw",
      "id": "60d01d27",
      "metadata": {
        "id": "60d01d27"
      },
      "source": [
        "Public variables and methods in Python do not require any access modifier, and they can be accessed by any part of the program.\n",
        "\n",
        "Example:"
      ]
    },
    {
      "cell_type": "code",
      "execution_count": null,
      "id": "732a0920",
      "metadata": {
        "id": "732a0920",
        "outputId": "cbcbb08a-c541-426e-966e-c60448207eca"
      },
      "outputs": [
        {
          "name": "stdout",
          "output_type": "stream",
          "text": [
            "50\n"
          ]
        }
      ],
      "source": [
        "\n",
        "class Rectangle:\n",
        "    length = 5\n",
        "    breadth = 10\n",
        "\n",
        "    def area(self):\n",
        "        return self.length * self.breadth\n",
        "\n",
        "r = Rectangle()\n",
        "print(r.area()) # this will print 50 as the area method is public\n"
      ]
    },
    {
      "cell_type": "raw",
      "id": "59149c08",
      "metadata": {
        "id": "59149c08"
      },
      "source": [
        "C. Getter and Setter Methods\n",
        "\n",
        "Getter and setter methods are used to access and modify private variables in a class. Getter methods are used to get the value of a private variable, and setter methods are used to set the value of a private variable.\n",
        "\n",
        "Example:"
      ]
    },
    {
      "cell_type": "code",
      "execution_count": null,
      "id": "94d4a183",
      "metadata": {
        "colab": {
          "base_uri": "https://localhost:8080/"
        },
        "id": "94d4a183",
        "outputId": "a962e0cc-bdc9-4b19-c405-a79dd547c109"
      },
      "outputs": [
        {
          "output_type": "stream",
          "name": "stdout",
          "text": [
            "John\n",
            "Mike\n"
          ]
        }
      ],
      "source": [
        "\n",
        "class Person:\n",
        "    __name = \"John\"\n",
        "\n",
        "    def get_name(self):\n",
        "        return self.__name\n",
        "\n",
        "    def set_name(self, name):\n",
        "        self.__name = name\n",
        "\n",
        "p = Person()\n",
        "print(p.get_name()) # this will print John\n",
        "p.set_name(\"Mike\")\n",
        "print(p.get_name()) # this will print Mike"
      ]
    },
    {
      "cell_type": "code",
      "execution_count": null,
      "id": "71689d9d",
      "metadata": {
        "id": "71689d9d",
        "outputId": "f3155f0d-dc39-42ca-d577-a6533ea0ecb5"
      },
      "outputs": [
        {
          "name": "stdout",
          "output_type": "stream",
          "text": [
            "Sagar\n"
          ]
        }
      ],
      "source": [
        "class Student:\n",
        "    def __init__(self):\n",
        "        self.__name = \"\";\n",
        "    def get_name(self):\n",
        "        return self.__name\n",
        "\n",
        "    def set_name(self,name):\n",
        "        self.__name = name\n",
        "\n",
        "obj = Student()\n",
        "obj.set_name(\"Sagar\")\n",
        "print(obj.get_name())"
      ]
    },
    {
      "cell_type": "code",
      "execution_count": null,
      "id": "f2a990a2",
      "metadata": {
        "id": "f2a990a2",
        "outputId": "33ae84d0-02f5-43ab-9cd5-32bd86e960fc"
      },
      "outputs": [
        {
          "name": "stdout",
          "output_type": "stream",
          "text": [
            "Sagar\n"
          ]
        }
      ],
      "source": [
        "class Student_2:\n",
        "\n",
        "    __name = \"\";\n",
        "    def get_name(self):\n",
        "        return self.__name\n",
        "\n",
        "    def set_name(self,name):\n",
        "        self.__name = name\n",
        "\n",
        "obj = Student_2()\n",
        "obj.set_name(\"Sagar\")\n",
        "print(obj.get_name())"
      ]
    },
    {
      "cell_type": "markdown",
      "source": [
        "**Task with Solutions:**\n",
        "Write a  Python program to create a class representing a bank. Include methods for managing customer accounts and transactions."
      ],
      "metadata": {
        "id": "Q3hCsUd_F7HQ"
      },
      "id": "Q3hCsUd_F7HQ"
    },
    {
      "cell_type": "code",
      "source": [
        "# Define a class called Bank to implement a simple banking system\n",
        "class Bank:\n",
        "    # Initialize the bank with an empty dictionary to store customer accounts and balances\n",
        "    def __init__(self):\n",
        "        self.customers = {}\n",
        "\n",
        "    # Create a new account with a given account number and an optional initial balance (default to 0)\n",
        "    def create_account(self, account_number, initial_balance=0):\n",
        "        if account_number in self.customers:\n",
        "            print(\"Account number already exists.\")\n",
        "        else:\n",
        "            self.customers[account_number] = initial_balance\n",
        "            print(\"Account created successfully.\")\n",
        "\n",
        "    # Make a deposit to the account with the given account number\n",
        "    def make_deposit(self, account_number, amount):\n",
        "        if account_number in self.customers:\n",
        "            self.customers[account_number] += amount\n",
        "            print(\"Deposit successful.\")\n",
        "        else:\n",
        "            print(\"Account number does not exist.\")\n",
        "\n",
        "    # Make a withdrawal from the account with the given account number\n",
        "    def make_withdrawal(self, account_number, amount):\n",
        "        if account_number in self.customers:\n",
        "            if self.customers[account_number] >= amount:\n",
        "                self.customers[account_number] -= amount\n",
        "                print(\"Withdrawal successful.\")\n",
        "            else:\n",
        "                print(\"Insufficient funds.\")\n",
        "        else:\n",
        "            print(\"Account number does not exist.\")\n",
        "\n",
        "    # Check and print the balance of the account with the given account number\n",
        "    def check_balance(self, account_number):\n",
        "        if account_number in self.customers:\n",
        "            balance = self.customers[account_number]\n",
        "            print(f\"Account balance: {balance}\")\n",
        "        else:\n",
        "            print(\"Account number does not exist.\")\n",
        "\n",
        "# Example usage\n",
        "# Create an instance of the Bank class\n",
        "bank = Bank()\n",
        "\n",
        "# Create customer accounts and perform account operations\n",
        "acno1= \"SB-123\"\n",
        "damt1 = 1000\n",
        "print(\"New a/c No.: \",acno1,\"Deposit Amount:\",damt1)\n",
        "bank.create_account(acno1, damt1)\n",
        "\n",
        "acno2= \"SB-124\"\n",
        "damt2 = 1500\n",
        "print(\"New a/c No.: \",acno2,\"Deposit Amount:\",damt2)\n",
        "bank.create_account(acno2, damt2)\n",
        "\n",
        "wamt1 = 600\n",
        "print(\"\\nDeposit Rs.\",wamt1,\"to A/c No.\",acno1)\n",
        "bank.make_deposit(acno1, wamt1)\n",
        "\n",
        "wamt2 = 350\n",
        "print(\"Withdraw Rs.\",wamt2,\"From A/c No.\",acno2)\n",
        "bank.make_withdrawal(acno2, wamt2)\n",
        "\n",
        "print(\"A/c. No.\",acno1)\n",
        "bank.check_balance(acno1)\n",
        "\n",
        "print(\"A/c. No.\",acno2)\n",
        "bank.check_balance(acno2)\n",
        "\n",
        "wamt3 = 1200\n",
        "print(\"Withdraw Rs.\",wamt3,\"From A/c No.\",acno2)\n",
        "bank.make_withdrawal(acno2, wamt3)\n",
        "\n",
        "acno3 = \"SB-134\"\n",
        "print(\"A/c. No.\",acno3)\n",
        "bank.check_balance(acno3)  # Non-existent account number"
      ],
      "metadata": {
        "colab": {
          "base_uri": "https://localhost:8080/"
        },
        "id": "OrKkhBoUHDf0",
        "outputId": "b8bf4b97-28d8-4428-9eda-966ebf10aa2e"
      },
      "id": "OrKkhBoUHDf0",
      "execution_count": 1,
      "outputs": [
        {
          "output_type": "stream",
          "name": "stdout",
          "text": [
            "New a/c No.:  SB-123 Deposit Amount: 1000\n",
            "Account created successfully.\n",
            "New a/c No.:  SB-124 Deposit Amount: 1500\n",
            "Account created successfully.\n",
            "\n",
            "Deposit Rs. 600 to A/c No. SB-123\n",
            "Deposit successful.\n",
            "Withdraw Rs. 350 From A/c No. SB-124\n",
            "Withdrawal successful.\n",
            "A/c. No. SB-123\n",
            "Account balance: 1600\n",
            "A/c. No. SB-124\n",
            "Account balance: 1150\n",
            "Withdraw Rs. 1200 From A/c No. SB-124\n",
            "Insufficient funds.\n",
            "A/c. No. SB-134\n",
            "Account number does not exist.\n"
          ]
        }
      ]
    },
    {
      "cell_type": "markdown",
      "source": [
        "Lab_Task:\n",
        "Write a Python program to create a class representing a stack data structure. Include methods for pushing and popping elements."
      ],
      "metadata": {
        "id": "ffN4RVVh-cNj"
      },
      "id": "ffN4RVVh-cNj"
    },
    {
      "cell_type": "code",
      "source": [
        "# Define a class called Stack to implement a stack data structure\n",
        "class Stack:\n",
        "    # Initialize the stack with an empty list to store items\n",
        "    def __init__(self):\n",
        "        self.items = []\n",
        "\n",
        "    # Push an item onto the stack\n",
        "    def push(self, item):\n",
        "        self.items.append(item)\n",
        "\n",
        "    # Pop (remove and return) an item from the stack if the stack is not empty\n",
        "    def pop(self):\n",
        "        if not self.is_empty():\n",
        "            return self.items.pop()\n",
        "        else:\n",
        "            return \"Cannot pop from an empty stack.\"\n",
        "\n",
        "    # Check if the stack is empty\n",
        "    def is_empty(self):\n",
        "        return len(self.items) == 0\n",
        "\n",
        "    # Get the number of items in the stack\n",
        "    def size(self):\n",
        "        return len(self.items)\n",
        "\n",
        "    # Peek at the top item of the stack without removing it, if the stack is not empty\n",
        "    def peek(self):\n",
        "        if not self.is_empty():\n",
        "            return self.items[-1]\n",
        "        else:\n",
        "            return \"Empty stack.\"\n",
        "\n",
        "# Example usage\n",
        "# Create an instance of the Stack class\n",
        "stack = Stack()\n",
        "\n",
        "# Push items onto the stack\n",
        "stack.push(0)\n",
        "stack.push(1)\n",
        "stack.push(2)\n",
        "stack.push(3)\n",
        "stack.push(4)\n",
        "\n",
        "# Print the size of the stack and the top element\n",
        "print(\"Stack size:\", stack.size())\n",
        "print(\"Top element:\", stack.peek())\n",
        "\n",
        "# Pop an item from the stack, and print the popped item, and the updated size and top element\n",
        "popped_item = stack.pop()\n",
        "print(\"\\nPopped item:\", popped_item)\n",
        "print(\"\\nStack size:\", stack.size())\n",
        "print(\"Top element:\", stack.peek())\n",
        "\n",
        "#----------------------------------------\n",
        "# Create another instance of the Stack class\n",
        "stack1 = Stack()\n",
        "\n",
        "# Print the size of the empty stack and attempt to pop an item (with an error message)\n",
        "print(\"\\nStack size:\", stack1.size())\n",
        "popped_item = stack1.pop()\n",
        "print(\"\\nPopped item:\", popped_item)"
      ],
      "metadata": {
        "colab": {
          "base_uri": "https://localhost:8080/"
        },
        "id": "05BL_eH1-hBI",
        "outputId": "8b18292d-a9cc-4ec8-8dbf-62e5d4a18ccc"
      },
      "id": "05BL_eH1-hBI",
      "execution_count": null,
      "outputs": [
        {
          "output_type": "stream",
          "name": "stdout",
          "text": [
            "Stack size: 5\n",
            "Top element: 4\n",
            "\n",
            "Popped item: 4\n",
            "\n",
            "Stack size: 4\n",
            "Top element: 3\n",
            "\n",
            "Stack size: 0\n",
            "\n",
            "Popped item: Cannot pop from an empty stack.\n"
          ]
        }
      ]
    },
    {
      "cell_type": "markdown",
      "source": [
        "PostLabTask:\n",
        "1. Write a Python program to create a person class. Include attributes like name, country and date of birth. Implement a method to determine the person's age.\n",
        "\n",
        "2. Write a  Python program to create a class representing a binary search tree. Include methods for inserting and searching for elements in the binary tree."
      ],
      "metadata": {
        "id": "EnC8_zB-9neS"
      },
      "id": "EnC8_zB-9neS"
    },
    {
      "cell_type": "code",
      "source": [],
      "metadata": {
        "id": "_kZ8N5Ga9nFE"
      },
      "id": "_kZ8N5Ga9nFE",
      "execution_count": null,
      "outputs": []
    }
  ],
  "metadata": {
    "kernelspec": {
      "display_name": "Python 3 (ipykernel)",
      "language": "python",
      "name": "python3"
    },
    "language_info": {
      "codemirror_mode": {
        "name": "ipython",
        "version": 3
      },
      "file_extension": ".py",
      "mimetype": "text/x-python",
      "name": "python",
      "nbconvert_exporter": "python",
      "pygments_lexer": "ipython3",
      "version": "3.10.9"
    },
    "colab": {
      "provenance": []
    }
  },
  "nbformat": 4,
  "nbformat_minor": 5
}