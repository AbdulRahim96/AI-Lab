{
  "nbformat": 4,
  "nbformat_minor": 0,
  "metadata": {
    "colab": {
      "provenance": []
    },
    "kernelspec": {
      "name": "python3",
      "display_name": "Python 3"
    },
    "language_info": {
      "name": "python"
    }
  },
  "cells": [
    {
      "cell_type": "code",
      "execution_count": null,
      "metadata": {
        "colab": {
          "base_uri": "https://localhost:8080/"
        },
        "id": "fxZPAZ03KEtU",
        "outputId": "e146749b-8c1f-456d-8346-c8343d733662"
      },
      "outputs": [
        {
          "output_type": "stream",
          "name": "stdout",
          "text": [
            "<class 'int'>\n"
          ]
        }
      ],
      "source": [
        "a = 1000;\n",
        "print(type(a))"
      ]
    },
    {
      "cell_type": "markdown",
      "source": [
        "**xaxamx**"
      ],
      "metadata": {
        "id": "PZKmVGH4nJUT"
      }
    },
    {
      "cell_type": "code",
      "source": [],
      "metadata": {
        "id": "G5HEEzdxnHjI"
      },
      "execution_count": null,
      "outputs": []
    },
    {
      "cell_type": "code",
      "source": [
        "#Python List"
      ],
      "metadata": {
        "id": "-x--xoqbLsXg"
      },
      "execution_count": null,
      "outputs": []
    },
    {
      "cell_type": "code",
      "source": [],
      "metadata": {
        "id": "VAQuGlGOLu8b"
      },
      "execution_count": null,
      "outputs": []
    },
    {
      "cell_type": "markdown",
      "source": [
        "What Are Python Lists?\n",
        "A Python list is a mutable collection of heterogeneous elements (items) under one variable name. In this context, mutability means the elements inside a list can be changed while the program is running. We also can add or remove elements from a list whenever we want. In Python, we define lists by enclosing the elements between square brackets and separating them with commas. Each list’s element has an index representing the element's position in the list with a starting index of zero.\n"
      ],
      "metadata": {
        "id": "-Bid4C-uRUhu"
      }
    },
    {
      "cell_type": "markdown",
      "source": [
        "Creating Python Lists\n",
        "To define a Python list, you need to use the following syntax:\n"
      ],
      "metadata": {
        "id": "J9euERqaSMbM"
      }
    },
    {
      "cell_type": "markdown",
      "source": [
        "variable_name = [item1, item2, item3, … , itemN]\n",
        "As an example, let's create our first Python list.\n"
      ],
      "metadata": {
        "id": "bNwz2X5XSUgG"
      }
    },
    {
      "cell_type": "code",
      "source": [
        "shopping_list = [\"eggs\", \"milk\", \"bread\", \"butter\"]"
      ],
      "metadata": {
        "id": "tSJVO6TaSCUK"
      },
      "execution_count": 4,
      "outputs": []
    },
    {
      "cell_type": "code",
      "source": [
        "price_list = [13.99, 8.50, 7.90, 12.50]"
      ],
      "metadata": {
        "id": "Z3aNDfZvTB8e"
      },
      "execution_count": 5,
      "outputs": []
    },
    {
      "cell_type": "markdown",
      "source": [
        "As we mentioned in the definition of the Python lists, the list items don't have to all be the same data type. They can be any object since everything is an object in Python."
      ],
      "metadata": {
        "id": "dQmxepifTH6y"
      }
    },
    {
      "cell_type": "code",
      "source": [
        "a_mixed_list = [\"dataquest.io\", 100, \"python.org\", 10.01, True, 'A']"
      ],
      "metadata": {
        "id": "XFAaet-ETHi6"
      },
      "execution_count": 7,
      "outputs": []
    },
    {
      "cell_type": "markdown",
      "source": [
        "Check Type"
      ],
      "metadata": {
        "id": "PJyXRdznTHG8"
      }
    },
    {
      "cell_type": "code",
      "source": [
        "print(type(shopping_list))\n",
        "print(type(price_list))\n",
        "print(type(a_mixed_list))"
      ],
      "metadata": {
        "colab": {
          "base_uri": "https://localhost:8080/"
        },
        "id": "iLta1Ex0TX3M",
        "outputId": "67d85511-aba8-4b18-e9f4-fae399b7d2f4"
      },
      "execution_count": 8,
      "outputs": [
        {
          "output_type": "stream",
          "name": "stdout",
          "text": [
            "<class 'list'>\n",
            "<class 'list'>\n",
            "<class 'list'>\n"
          ]
        }
      ]
    },
    {
      "cell_type": "markdown",
      "source": [
        "Go ahead, and run the code. No matter which data types are stored in the lists, all the type() functions return <class 'list'>, which is the data type of list objects.\n",
        "\n",
        "**Accessing Items Within Python Lists**\n",
        "As we have seen, each item in a list has its own index, so they can be retrieved using their associated indices. Let’s try the code:"
      ],
      "metadata": {
        "id": "9MJKdvBqTlHI"
      }
    },
    {
      "cell_type": "code",
      "source": [
        "print(shopping_list[0])\n",
        "print(price_list[2])"
      ],
      "metadata": {
        "colab": {
          "base_uri": "https://localhost:8080/"
        },
        "id": "bd4RN3wfTndG",
        "outputId": "f55eb4f2-1bfa-4469-e9a8-e2b1ba92c6fe"
      },
      "execution_count": 9,
      "outputs": [
        {
          "output_type": "stream",
          "name": "stdout",
          "text": [
            "eggs\n",
            "7.9\n"
          ]
        }
      ]
    },
    {
      "cell_type": "markdown",
      "source": [
        "Negative Indexing"
      ],
      "metadata": {
        "id": "A6c2lpueUf00"
      }
    },
    {
      "cell_type": "code",
      "source": [
        "num_list = [21, 13, 17, 39, 17, 51]\n",
        "\n",
        "print(num_list[-1])\n",
        "print(num_list[0])\n",
        "print(num_list[-6])\n"
      ],
      "metadata": {
        "colab": {
          "base_uri": "https://localhost:8080/"
        },
        "id": "AJSla78YT6oF",
        "outputId": "84330863-7517-4e58-89f7-1afbbe798627"
      },
      "execution_count": null,
      "outputs": [
        {
          "output_type": "stream",
          "name": "stdout",
          "text": [
            "51\n",
            "21\n",
            "21\n"
          ]
        }
      ]
    },
    {
      "cell_type": "code",
      "source": [
        "print(\"The length of the list is {}.\".format(len(num_list)))"
      ],
      "metadata": {
        "colab": {
          "base_uri": "https://localhost:8080/"
        },
        "id": "lHZmXUyBUrmM",
        "outputId": "cd59061e-a6ea-46cd-89d7-7168299136c4"
      },
      "execution_count": null,
      "outputs": [
        {
          "output_type": "stream",
          "name": "stdout",
          "text": [
            "The length of the list is 6.\n"
          ]
        }
      ]
    },
    {
      "cell_type": "markdown",
      "source": [
        "Creating a List of Lists\n",
        "In Python, we can store lists within another list (nested lists). To check how we can create a nested list, let's try the following code that makes one list containing other lists and values with different data types."
      ],
      "metadata": {
        "id": "7ptkhkCvWR9J"
      }
    },
    {
      "cell_type": "code",
      "source": [
        "DATAC=[['C' , 300],['JAVA', 900]]\n",
        "print(DATAC[0][1])\n",
        "data = [[\"Python\", 100], [\"Java\", 101], \"Hello\", True]\n",
        "print(data)\n",
        "print(data[1])"
      ],
      "metadata": {
        "colab": {
          "base_uri": "https://localhost:8080/"
        },
        "id": "tQPBsqxpVRoV",
        "outputId": "9a3aeb8d-3794-4661-83da-f549cd199eb7"
      },
      "execution_count": 14,
      "outputs": [
        {
          "output_type": "stream",
          "name": "stdout",
          "text": [
            "300\n",
            "[['Python', 100], ['Java', 101], 'Hello', True]\n",
            "['Java', 101]\n"
          ]
        }
      ]
    },
    {
      "cell_type": "code",
      "source": [
        "print(data[0][0])\n",
        "inner_list = data[1]\n",
        "print(inner_list[0])"
      ],
      "metadata": {
        "colab": {
          "base_uri": "https://localhost:8080/"
        },
        "id": "spT--naaWZP_",
        "outputId": "1d8cbe0a-8713-4fe1-ab22-481b22d85a8b"
      },
      "execution_count": null,
      "outputs": [
        {
          "output_type": "stream",
          "name": "stdout",
          "text": [
            "Python\n",
            "Java\n"
          ]
        }
      ]
    },
    {
      "cell_type": "markdown",
      "source": [
        "Running the code above outputs Python and Java. In the first line of code, the first index enclosed between the first set of square brackets refers to the first item in the data list, which itself is a list, and the second index enclosed between the second set refers to the first value of the inner list, which results in Python. The illustration below represents how Python is retrieved from the data list."
      ],
      "metadata": {
        "id": "kD9L7OG-Wxrs"
      }
    },
    {
      "cell_type": "markdown",
      "source": [
        "**Slicing Lists**\n",
        "Python allows us to create list subsets using slicing techniques. To create a list slice, we specify the index of the first and last items. The items from the first index up to, but not including, the last index are copied into the slice, and it's evident that the copying doesn't modify the original list. There are different ways for slicing a list; let’s look at some of them."
      ],
      "metadata": {
        "id": "-76c1EswXFB0"
      }
    },
    {
      "cell_type": "code",
      "source": [
        "#Slicing with a Starting Index\n",
        "#Omitting the ending index means that the slice contains the list elements from the starting index to the end of the list. Let’s check it out:\n",
        "\n",
        "num_list = [21, 13, 17, 39, 17, 51]\n",
        "\n",
        "print(num_list[3:])"
      ],
      "metadata": {
        "colab": {
          "base_uri": "https://localhost:8080/"
        },
        "id": "jni5wNCUXUyt",
        "outputId": "520af80b-f8cb-429a-9e8e-3b0b3af04431"
      },
      "execution_count": null,
      "outputs": [
        {
          "output_type": "stream",
          "name": "stdout",
          "text": [
            "[39, 17, 51]\n"
          ]
        }
      ]
    },
    {
      "cell_type": "code",
      "source": [
        "num_list = [21, 13, 17, 39, 17, 51]\n",
        "print(num_list[:4])"
      ],
      "metadata": {
        "colab": {
          "base_uri": "https://localhost:8080/"
        },
        "id": "4P1znZXXXXp2",
        "outputId": "382aa993-f326-49c1-ab62-3702151cb13b"
      },
      "execution_count": 15,
      "outputs": [
        {
          "output_type": "stream",
          "name": "stdout",
          "text": [
            "[21, 13, 17, 39]\n"
          ]
        }
      ]
    },
    {
      "cell_type": "code",
      "source": [
        "print(num_list[:])\n"
      ],
      "metadata": {
        "colab": {
          "base_uri": "https://localhost:8080/"
        },
        "id": "sm0P7j0-XnKb",
        "outputId": "cff136dc-45a5-4395-91fb-1fe7aac879e5"
      },
      "execution_count": 16,
      "outputs": [
        {
          "output_type": "stream",
          "name": "stdout",
          "text": [
            "[21, 13, 17, 39, 17, 51]\n"
          ]
        }
      ]
    },
    {
      "cell_type": "markdown",
      "source": [
        "Slicing with Steps\n",
        "We can use a step to return items at specified intervals. The step is optional — by default, it is 1. The following code returns every other item of num_list."
      ],
      "metadata": {
        "id": "LeM_qCO8X2vn"
      }
    },
    {
      "cell_type": "code",
      "source": [
        "num_list = [21, 13, 17, 39, 17, 51]\n",
        "print(num_list[ : :2])"
      ],
      "metadata": {
        "colab": {
          "base_uri": "https://localhost:8080/"
        },
        "id": "H5UThExgXx_F",
        "outputId": "a168154a-0b26-43a0-de22-3bde0c03774d"
      },
      "execution_count": null,
      "outputs": [
        {
          "output_type": "stream",
          "name": "stdout",
          "text": [
            "[21, 17, 17]\n"
          ]
        }
      ]
    },
    {
      "cell_type": "markdown",
      "source": [
        "Reversing a List with Negative Step\n",
        "We can reverse a list by specifying the step as -1. The following code returns the num_list items in reverse order."
      ],
      "metadata": {
        "id": "bR6QjegAYLuQ"
      }
    },
    {
      "cell_type": "code",
      "source": [
        "num_list = [21, 13, 17, 39, 17, 51]\n",
        "print(num_list[ : :-1])"
      ],
      "metadata": {
        "colab": {
          "base_uri": "https://localhost:8080/"
        },
        "id": "3wRKevUnYPVc",
        "outputId": "c147e0e2-6545-4224-fd47-a2645fde7bf1"
      },
      "execution_count": null,
      "outputs": [
        {
          "output_type": "stream",
          "name": "stdout",
          "text": [
            "[51, 17, 39, 17, 13, 21]\n"
          ]
        }
      ]
    },
    {
      "cell_type": "code",
      "source": [
        "print(num_list[-1:-7:-1])\n",
        "# [51, 17, 39, 17, 13, 21]"
      ],
      "metadata": {
        "colab": {
          "base_uri": "https://localhost:8080/"
        },
        "id": "VNKZW2i8Ydts",
        "outputId": "60a27936-e09b-49e2-9229-ce7b397b0d96"
      },
      "execution_count": null,
      "outputs": [
        {
          "output_type": "stream",
          "name": "stdout",
          "text": [
            "[51, 17, 39, 17, 13, 21]\n"
          ]
        }
      ]
    },
    {
      "cell_type": "markdown",
      "source": [
        "**Adding Items to a List**\n",
        "There are two methods for adding new items into a list, insert() and append() methods. The new item can be a string, a number, or even another list. We can use both methods to expand a list.\n",
        "\n",
        "**.insert()**\n",
        "The insert() method adds an item at a specified location within a list. Let’s see how it works."
      ],
      "metadata": {
        "id": "2MGZSgcZY4Zn"
      }
    },
    {
      "cell_type": "code",
      "source": [
        "fruits = [\"apple\", \"orange\", \"cherry\"]\n",
        "fruits.insert(1, \"pineapple\")\n",
        "print(fruits)"
      ],
      "metadata": {
        "colab": {
          "base_uri": "https://localhost:8080/"
        },
        "id": "cPlXmmoSY2Hm",
        "outputId": "ffec7d60-4ba0-4b5f-a998-8d14feab0e2e"
      },
      "execution_count": null,
      "outputs": [
        {
          "output_type": "stream",
          "name": "stdout",
          "text": [
            "['apple', 'pineapple', 'orange', 'cherry']\n"
          ]
        }
      ]
    },
    {
      "cell_type": "code",
      "source": [
        "# .append()\n",
        "# The append() method adds an item at the end of a list. Let’s check it out."
      ],
      "metadata": {
        "id": "yfbSotW3ZLUG"
      },
      "execution_count": null,
      "outputs": []
    },
    {
      "cell_type": "code",
      "source": [
        "fruits = [\"apple\",\"orange\",\"cherry\"]\n",
        "fruits.append(\"pineapple\")\n",
        "print(fruits)"
      ],
      "metadata": {
        "colab": {
          "base_uri": "https://localhost:8080/"
        },
        "id": "RlyDFZwOZZGm",
        "outputId": "530753bb-428c-4d6f-b360-0155867fdba6"
      },
      "execution_count": null,
      "outputs": [
        {
          "output_type": "stream",
          "name": "stdout",
          "text": [
            "['apple', 'orange', 'cherry', 'pineapple']\n"
          ]
        }
      ]
    },
    {
      "cell_type": "code",
      "source": [
        "\n",
        "# You can add a list of objects at the end of a list with += operator. If the left operand of += is a list, the right operand must be a list or any other iterable object.**\n",
        "students = [\"Mary\", \"James\",\"Patricia\"]\n",
        "students += [\"Robert\"]\n",
        "students += [\"Emma\", \"William\"]\n",
        "print(students)"
      ],
      "metadata": {
        "colab": {
          "base_uri": "https://localhost:8080/"
        },
        "id": "19XO3v6FZjA_",
        "outputId": "960b9679-d7a9-4c3e-bd2c-f4fea1132684"
      },
      "execution_count": null,
      "outputs": [
        {
          "output_type": "stream",
          "name": "stdout",
          "text": [
            "['Mary', 'James', 'Patricia', 'Robert', 'Emma', 'William']\n"
          ]
        }
      ]
    },
    {
      "cell_type": "code",
      "source": [
        "classA = [\"Mary\", \"James\",\"Patricia\"]\n",
        "classB = [\"Robert\", \"Emma\", \"William\"]\n",
        "students = classA + classB\n",
        "print(students)"
      ],
      "metadata": {
        "colab": {
          "base_uri": "https://localhost:8080/"
        },
        "id": "D7cb_v-YZ3Fa",
        "outputId": "67ef9b0c-64c9-4b18-e371-448cd6dd4d9c"
      },
      "execution_count": null,
      "outputs": [
        {
          "output_type": "stream",
          "name": "stdout",
          "text": [
            "['Mary', 'James', 'Patricia', 'Robert', 'Emma', 'William']\n"
          ]
        }
      ]
    },
    {
      "cell_type": "markdown",
      "source": [
        "Removing Items from a List\n",
        "There are two primary methods for removing items from a list, pop() and remove() methods.\n",
        "\n",
        ".pop()\n",
        "The pop() method removes an item at a specified index from a list and returns the item, which can be assigned to a variable and used later. The default value of the index is -1, which means if the index value isn't provided, it removes the last item."
      ],
      "metadata": {
        "id": "JvGe73ymaA1c"
      }
    },
    {
      "cell_type": "code",
      "source": [
        "fruits = [\"apple\", \"orange\", \"cherry\", \"pineapple\"]\n",
        "\n",
        "second_fruit = fruits.pop(1) # removes the second item\n",
        "last_fruit = fruits.pop() # removes the last item\n",
        "\n",
        "print(\"Second Fruit is {}.\".format(second_fruit))\n",
        "print(\"Last Fruit is {}.\".format(last_fruit))\n",
        "print(fruits)"
      ],
      "metadata": {
        "colab": {
          "base_uri": "https://localhost:8080/"
        },
        "id": "W_PQ7YhJZ_Jp",
        "outputId": "f5b78629-5d38-4125-b856-173bcaa88c73"
      },
      "execution_count": null,
      "outputs": [
        {
          "output_type": "stream",
          "name": "stdout",
          "text": [
            "Second Fruit is orange.\n",
            "Last Fruit is pineapple.\n",
            "['apple', 'cherry']\n"
          ]
        }
      ]
    },
    {
      "cell_type": "markdown",
      "source": [
        "***The remove() method removes the first occurrence of an element with a specified value***"
      ],
      "metadata": {
        "id": "y6KKa-KYaZEZ"
      }
    },
    {
      "cell_type": "code",
      "source": [
        "fruits = [\"apple\", \"orange\", \"cherry\", \"pineapple\"]\n",
        "fruits.remove('orange')\n",
        "print(fruits)"
      ],
      "metadata": {
        "colab": {
          "base_uri": "https://localhost:8080/"
        },
        "id": "Ca2BD0knaC7Y",
        "outputId": "36f44a62-3580-4ca0-e250-d90ae1f6c497"
      },
      "execution_count": null,
      "outputs": [
        {
          "output_type": "stream",
          "name": "stdout",
          "text": [
            "['apple', 'cherry', 'pineapple']\n"
          ]
        }
      ]
    },
    {
      "cell_type": "code",
      "source": [
        "fruits = [\"apple\", \"orange\", \"cherry\", \"pineapple\"]\n",
        "fruits.remove('adnan')"
      ],
      "metadata": {
        "colab": {
          "base_uri": "https://localhost:8080/",
          "height": 158
        },
        "id": "iLeNfx__1Ybe",
        "outputId": "fc9554dd-8634-4d43-8ea7-3f23b0d81741"
      },
      "execution_count": null,
      "outputs": [
        {
          "output_type": "error",
          "ename": "ValueError",
          "evalue": "list.remove(x): x not in list",
          "traceback": [
            "\u001b[0;31m---------------------------------------------------------------------------\u001b[0m",
            "\u001b[0;31mValueError\u001b[0m                                Traceback (most recent call last)",
            "\u001b[0;32m<ipython-input-14-7e5683777608>\u001b[0m in \u001b[0;36m<cell line: 2>\u001b[0;34m()\u001b[0m\n\u001b[1;32m      1\u001b[0m \u001b[0mfruits\u001b[0m \u001b[0;34m=\u001b[0m \u001b[0;34m[\u001b[0m\u001b[0;34m\"apple\"\u001b[0m\u001b[0;34m,\u001b[0m \u001b[0;34m\"orange\"\u001b[0m\u001b[0;34m,\u001b[0m \u001b[0;34m\"cherry\"\u001b[0m\u001b[0;34m,\u001b[0m \u001b[0;34m\"pineapple\"\u001b[0m\u001b[0;34m]\u001b[0m\u001b[0;34m\u001b[0m\u001b[0;34m\u001b[0m\u001b[0m\n\u001b[0;32m----> 2\u001b[0;31m \u001b[0mfruits\u001b[0m\u001b[0;34m.\u001b[0m\u001b[0mremove\u001b[0m\u001b[0;34m(\u001b[0m\u001b[0;34m'adnan'\u001b[0m\u001b[0;34m)\u001b[0m\u001b[0;34m\u001b[0m\u001b[0;34m\u001b[0m\u001b[0m\n\u001b[0m",
            "\u001b[0;31mValueError\u001b[0m: list.remove(x): x not in list"
          ]
        }
      ]
    },
    {
      "cell_type": "code",
      "source": [
        "fruits = [\"apple\", \"orange\", \"cherry\", \"pineapple\"]\n",
        "try:\n",
        "  fruits.remove('blueberry')\n",
        "  print(fruits)\n",
        "except:\n",
        "  print(\"The fruit name does not exist in the list.\")"
      ],
      "metadata": {
        "colab": {
          "base_uri": "https://localhost:8080/"
        },
        "id": "KxKJjPkNapm7",
        "outputId": "5bf4f98c-0e58-47ef-ceab-dbf5f4458035"
      },
      "execution_count": null,
      "outputs": [
        {
          "output_type": "stream",
          "name": "stdout",
          "text": [
            "The fruit name does not exist in the list.\n"
          ]
        }
      ]
    },
    {
      "cell_type": "code",
      "source": [
        "num_list = []\n",
        "if not num_list:\n",
        "  print(\"The list is empty\")"
      ],
      "metadata": {
        "colab": {
          "base_uri": "https://localhost:8080/"
        },
        "id": "pxinc7Qeayve",
        "outputId": "a5216453-a5d7-4cd2-a297-00b7002ec066"
      },
      "execution_count": null,
      "outputs": [
        {
          "output_type": "stream",
          "name": "stdout",
          "text": [
            "The list is empty\n"
          ]
        }
      ]
    },
    {
      "cell_type": "code",
      "source": [
        "fruits = [\"apple\", \"orange\", \"cherry\", \"pineapple\"]\n",
        "for fruit in fruits:\n",
        "  print(fruit)"
      ],
      "metadata": {
        "colab": {
          "base_uri": "https://localhost:8080/"
        },
        "id": "guLCluzhbAY7",
        "outputId": "75d5390e-1b7f-45e9-eccb-ac8abceeee09"
      },
      "execution_count": null,
      "outputs": [
        {
          "output_type": "stream",
          "name": "stdout",
          "text": [
            "apple\n",
            "orange\n",
            "cherry\n",
            "pineapple\n"
          ]
        }
      ]
    },
    {
      "cell_type": "markdown",
      "source": [
        "**Lab_Task**: You're analyzing a list named daily_expenses, representing the daily expenses of a household for a month. Your goal is to focus on weekend expenses, considering that weekends may not align with traditional Saturday-Sunday weekends.\n",
        "\n",
        "Determine the weekend days based on spending patterns.\n",
        "Use negative indexing for slicing to extract weekend expenses.\n",
        "Calculate the total expenses for the weekends.\n",
        "Explain your approach to identifying weekend days and discuss the importance of analyzing weekend expenses for financial planning.\n",
        "Write a concise Python code snippet to achieve these objectives and display the total expenses for the weekends."
      ],
      "metadata": {
        "id": "tYwpbTK-2ppl"
      }
    },
    {
      "cell_type": "code",
      "source": [
        "daily_expenses = [80, 100, 90, 120, 110, 130, 70, 150, 140, 160, 200, 180, 190, 210, 220, 250, 240, 230, 270, 260, 280, 300, 320, 310, 340, 330, 350, 370, 360, 380]"
      ],
      "metadata": {
        "id": "r9sMI1uo2oN1"
      },
      "execution_count": null,
      "outputs": []
    },
    {
      "cell_type": "markdown",
      "source": [
        "***Post Lab_Task***\n",
        "You've been given a list named sales_data containing the daily sales figures for a particular product over the course of a month. Your task is to analyze the sales performance during weekends, considering that weekends may not necessarily fall on Saturdays and Sundays due to different time zones or business operating schedules.\n",
        "\n",
        "Analyze the provided sales data and determine which days correspond to weekends based on your understanding of typical weekend sales patterns.\n",
        "Utilize Python's negative indexing for slicing to extract the sales figures for the identified weekend days.\n",
        "Calculate the total sales for the weekends.\n",
        "Provide a brief explanation of how you identified the weekend days and why analyzing weekend sales is important for business insights.\n",
        "Write a Python code snippet to accomplish these tasks and display the total sales for the weekends."
      ],
      "metadata": {
        "id": "xcmubM7oks1w"
      }
    },
    {
      "cell_type": "code",
      "source": [
        "# Sample sales data for the month (for demonstration purposes)\n",
        "sales_data = [1200, 1500, 1400, 1600, 1800, 1900, 2000, 2200, 2100, 2300, 2400, 2500, 2600, 2700, 2800, 2900, 3000, 3100, 3200, 3300, 3400, 3500, 3600, 3700, 3800, 3900, 4000, 4100, 4200, 4300]"
      ],
      "metadata": {
        "id": "_XU8Jt5-j4-Y"
      },
      "execution_count": null,
      "outputs": []
    }
  ]
}