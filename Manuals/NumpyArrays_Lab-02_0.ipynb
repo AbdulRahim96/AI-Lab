{
  "cells": [
    {
      "cell_type": "markdown",
      "id": "a6ee34e0",
      "metadata": {
        "id": "a6ee34e0"
      },
      "source": [
        "##Python Numpy Arrays"
      ]
    },
    {
      "cell_type": "markdown",
      "id": "332fa60e",
      "metadata": {
        "id": "332fa60e"
      },
      "source": [
        "## Numpy Tutorials\n",
        "NumPy is a general-purpose array-processing package. It provides a high-performance multidimensional array object, and tools for working with these arrays. It is the fundamental package for scientific computing with Python"
      ]
    },
    {
      "cell_type": "markdown",
      "id": "07522d00",
      "metadata": {
        "id": "07522d00"
      },
      "source": [
        "## What is an array\n",
        "An array is a data structure that stores values of same data type. In Python, this is the main difference between arrays and lists. While python lists can contain values corresponding to different data types, arrays in python can only contain values corresponding to same data type"
      ]
    },
    {
      "cell_type": "markdown",
      "source": [],
      "metadata": {
        "id": "tXMl1tSirdTs"
      },
      "id": "tXMl1tSirdTs"
    },
    {
      "cell_type": "code",
      "execution_count": null,
      "id": "b185b2c6",
      "metadata": {
        "id": "b185b2c6"
      },
      "outputs": [],
      "source": [
        "## import the library\n",
        "import numpy as np"
      ]
    },
    {
      "cell_type": "code",
      "execution_count": null,
      "id": "bb1b5a35",
      "metadata": {
        "id": "bb1b5a35",
        "colab": {
          "base_uri": "https://localhost:8080/"
        },
        "outputId": "7db0ffef-8c2c-4216-96a7-935976683026"
      },
      "outputs": [
        {
          "output_type": "stream",
          "name": "stdout",
          "text": [
            "[1 2 3 4]\n",
            "<class 'numpy.ndarray'>\n"
          ]
        }
      ],
      "source": [
        "lst=[1,2,3,4]\n",
        "\n",
        "arr2 = np.array(lst)\n",
        "print(arr2)\n",
        "\n",
        "arr=np.array(lst)\n",
        "\n",
        "print(type(arr2))"
      ]
    },
    {
      "cell_type": "code",
      "execution_count": null,
      "id": "1f8d70bb",
      "metadata": {
        "id": "1f8d70bb",
        "outputId": "a71e796c-6034-4891-b3bb-4f90e892f0f2"
      },
      "outputs": [
        {
          "data": {
            "text/plain": [
              "numpy.ndarray"
            ]
          },
          "execution_count": 4,
          "metadata": {},
          "output_type": "execute_result"
        }
      ],
      "source": [
        "type(arr)"
      ]
    },
    {
      "cell_type": "code",
      "execution_count": null,
      "id": "d145b60f",
      "metadata": {
        "id": "d145b60f",
        "outputId": "c7288946-1f81-4fc3-af2a-8b3be5eacc3c",
        "colab": {
          "base_uri": "https://localhost:8080/"
        }
      },
      "outputs": [
        {
          "output_type": "execute_result",
          "data": {
            "text/plain": [
              "(4,)"
            ]
          },
          "metadata": {},
          "execution_count": 4
        }
      ],
      "source": [
        "arr.shape"
      ]
    },
    {
      "cell_type": "code",
      "execution_count": null,
      "id": "d6f716b0",
      "metadata": {
        "id": "d6f716b0"
      },
      "outputs": [],
      "source": [
        "lst1=[1,2,3,4,5]\n",
        "lst2=[2,3,4,5,6]\n",
        "lst3=[3,4,5,6,7]\n",
        "\n",
        "arr1=np.array([lst1,lst2,lst3])"
      ]
    },
    {
      "cell_type": "code",
      "execution_count": null,
      "id": "a81d1013",
      "metadata": {
        "id": "a81d1013",
        "outputId": "ebb93272-a377-41ee-86e4-45c7c2d90590",
        "colab": {
          "base_uri": "https://localhost:8080/"
        }
      },
      "outputs": [
        {
          "output_type": "execute_result",
          "data": {
            "text/plain": [
              "array([[1, 2, 3, 4, 5],\n",
              "       [2, 3, 4, 5, 6],\n",
              "       [3, 4, 5, 6, 7]])"
            ]
          },
          "metadata": {},
          "execution_count": 6
        }
      ],
      "source": [
        "arr1"
      ]
    },
    {
      "cell_type": "code",
      "execution_count": null,
      "id": "71f2ad15",
      "metadata": {
        "id": "71f2ad15",
        "outputId": "ad079108-c64e-4398-cd96-65fb4996746f",
        "colab": {
          "base_uri": "https://localhost:8080/"
        }
      },
      "outputs": [
        {
          "output_type": "execute_result",
          "data": {
            "text/plain": [
              "(3, 5)"
            ]
          },
          "metadata": {},
          "execution_count": 7
        }
      ],
      "source": [
        "arr1.shape"
      ]
    },
    {
      "cell_type": "code",
      "execution_count": null,
      "id": "23550f22",
      "metadata": {
        "id": "23550f22",
        "outputId": "c1ebfbe0-a8d4-498c-c0b8-65273e069b98"
      },
      "outputs": [
        {
          "data": {
            "text/plain": [
              "array([1, 2, 3, 4])"
            ]
          },
          "execution_count": 10,
          "metadata": {},
          "output_type": "execute_result"
        }
      ],
      "source": [
        "arr"
      ]
    },
    {
      "cell_type": "code",
      "execution_count": null,
      "id": "a6090742",
      "metadata": {
        "id": "a6090742",
        "outputId": "6cfaa8b7-347f-4268-8c2e-85a02cb6b7b7"
      },
      "outputs": [
        {
          "data": {
            "text/plain": [
              "4"
            ]
          },
          "execution_count": 12,
          "metadata": {},
          "output_type": "execute_result"
        }
      ],
      "source": [
        "#indexing\n",
        "arr[3]"
      ]
    },
    {
      "cell_type": "code",
      "execution_count": null,
      "id": "17b36e76",
      "metadata": {
        "id": "17b36e76"
      },
      "outputs": [],
      "source": [
        "arr[3]=5"
      ]
    },
    {
      "cell_type": "code",
      "execution_count": null,
      "id": "55144bda",
      "metadata": {
        "id": "55144bda",
        "outputId": "e701f718-2903-47b9-c173-e374569fe981",
        "colab": {
          "base_uri": "https://localhost:8080/"
        }
      },
      "outputs": [
        {
          "output_type": "execute_result",
          "data": {
            "text/plain": [
              "array([1, 2, 3, 4])"
            ]
          },
          "metadata": {},
          "execution_count": 8
        }
      ],
      "source": [
        "arr"
      ]
    },
    {
      "cell_type": "code",
      "execution_count": null,
      "id": "549a9c41",
      "metadata": {
        "id": "549a9c41",
        "outputId": "4fd8466a-fa45-4ce4-9928-d2ea328ffe2f",
        "colab": {
          "base_uri": "https://localhost:8080/"
        }
      },
      "outputs": [
        {
          "output_type": "execute_result",
          "data": {
            "text/plain": [
              "4"
            ]
          },
          "metadata": {},
          "execution_count": 15
        }
      ],
      "source": [
        "arr[-1]"
      ]
    },
    {
      "cell_type": "code",
      "source": [],
      "metadata": {
        "id": "pi_1n3jODWel"
      },
      "id": "pi_1n3jODWel",
      "execution_count": null,
      "outputs": []
    },
    {
      "cell_type": "code",
      "source": [],
      "metadata": {
        "id": "TcApjYllDWQr"
      },
      "id": "TcApjYllDWQr",
      "execution_count": null,
      "outputs": []
    },
    {
      "cell_type": "code",
      "execution_count": null,
      "id": "86917975",
      "metadata": {
        "id": "86917975",
        "outputId": "680d6f22-93be-45ef-f39e-7ed928f6f44e",
        "colab": {
          "base_uri": "https://localhost:8080/"
        }
      },
      "outputs": [
        {
          "output_type": "execute_result",
          "data": {
            "text/plain": [
              "array([1, 2, 3])"
            ]
          },
          "metadata": {},
          "execution_count": 9
        }
      ],
      "source": [
        "arr[:-1]"
      ]
    },
    {
      "cell_type": "code",
      "execution_count": null,
      "id": "6944a7ac",
      "metadata": {
        "id": "6944a7ac",
        "outputId": "c86ebfde-b146-4007-e09d-2eddf26077c2",
        "colab": {
          "base_uri": "https://localhost:8080/"
        }
      },
      "outputs": [
        {
          "output_type": "execute_result",
          "data": {
            "text/plain": [
              "array([3])"
            ]
          },
          "metadata": {},
          "execution_count": 14
        }
      ],
      "source": [
        "arr[2::5]"
      ]
    },
    {
      "cell_type": "code",
      "execution_count": null,
      "id": "c45419ad",
      "metadata": {
        "id": "c45419ad",
        "outputId": "c58d4ef5-ff5b-4657-c0cf-8c449bfdc026",
        "colab": {
          "base_uri": "https://localhost:8080/"
        }
      },
      "outputs": [
        {
          "output_type": "execute_result",
          "data": {
            "text/plain": [
              "array([[1, 2, 3, 4, 5],\n",
              "       [2, 3, 4, 5, 6],\n",
              "       [3, 4, 5, 6, 7]])"
            ]
          },
          "metadata": {},
          "execution_count": 16
        }
      ],
      "source": [
        "arr1"
      ]
    },
    {
      "cell_type": "code",
      "execution_count": null,
      "id": "2cdcf9f7",
      "metadata": {
        "id": "2cdcf9f7",
        "outputId": "b5359da7-4f88-43a8-b9a3-6724665a2be9",
        "colab": {
          "base_uri": "https://localhost:8080/"
        }
      },
      "outputs": [
        {
          "output_type": "execute_result",
          "data": {
            "text/plain": [
              "array([[3, 4, 5]])"
            ]
          },
          "metadata": {},
          "execution_count": 21
        }
      ],
      "source": [
        "arr1[1:2,1:4]"
      ]
    },
    {
      "cell_type": "code",
      "execution_count": null,
      "id": "5b67e1e5",
      "metadata": {
        "id": "5b67e1e5",
        "outputId": "552dd530-1cad-40b0-ef87-63404974eed0"
      },
      "outputs": [
        {
          "data": {
            "text/plain": [
              "array([2, 3, 4])"
            ]
          },
          "execution_count": 28,
          "metadata": {},
          "output_type": "execute_result"
        }
      ],
      "source": [
        "arr1[:,1]"
      ]
    },
    {
      "cell_type": "code",
      "execution_count": null,
      "id": "59aab9ee",
      "metadata": {
        "id": "59aab9ee",
        "outputId": "fd130497-b0b1-4ae3-8db2-d1105140d342",
        "colab": {
          "base_uri": "https://localhost:8080/"
        }
      },
      "outputs": [
        {
          "output_type": "stream",
          "name": "stdout",
          "text": [
            "[[1 2 3 4 5]\n",
            " [2 3 4 5 6]\n",
            " [3 4 5 6 7]]\n"
          ]
        },
        {
          "output_type": "execute_result",
          "data": {
            "text/plain": [
              "array([[3, 4],\n",
              "       [4, 5]])"
            ]
          },
          "metadata": {},
          "execution_count": 18
        }
      ],
      "source": [
        "print(arr1)\n",
        "arr1[1:,1:3]"
      ]
    },
    {
      "cell_type": "code",
      "execution_count": null,
      "id": "060e8f8b",
      "metadata": {
        "id": "060e8f8b",
        "outputId": "2018f34b-d31f-4451-99a6-88d52ac0b09d"
      },
      "outputs": [
        {
          "data": {
            "text/plain": [
              "array([[5, 6],\n",
              "       [6, 7]])"
            ]
          },
          "execution_count": 30,
          "metadata": {},
          "output_type": "execute_result"
        }
      ],
      "source": [
        "arr1[1:,3:]"
      ]
    },
    {
      "cell_type": "code",
      "execution_count": null,
      "id": "a515ea9c",
      "metadata": {
        "id": "a515ea9c",
        "outputId": "460770b8-029a-4953-8c57-4803668bccaf"
      },
      "outputs": [
        {
          "data": {
            "text/plain": [
              "array([1, 2, 3, 5])"
            ]
          },
          "execution_count": 33,
          "metadata": {},
          "output_type": "execute_result"
        }
      ],
      "source": [
        "##EDA\n",
        "arr"
      ]
    },
    {
      "cell_type": "code",
      "execution_count": null,
      "id": "55a75b02",
      "metadata": {
        "id": "55a75b02",
        "outputId": "850ce38e-d108-4a54-d1bf-7ed863b28285",
        "colab": {
          "base_uri": "https://localhost:8080/"
        }
      },
      "outputs": [
        {
          "output_type": "execute_result",
          "data": {
            "text/plain": [
              "array([3, 4])"
            ]
          },
          "metadata": {},
          "execution_count": 19
        }
      ],
      "source": [
        "arr[arr>2]"
      ]
    },
    {
      "cell_type": "code",
      "execution_count": null,
      "id": "c9584f93",
      "metadata": {
        "id": "c9584f93",
        "outputId": "a5ec3fd8-1ab4-4fb7-aa3d-cec7ad1a69c5",
        "colab": {
          "base_uri": "https://localhost:8080/"
        }
      },
      "outputs": [
        {
          "output_type": "execute_result",
          "data": {
            "text/plain": [
              "(3, 5)"
            ]
          },
          "metadata": {},
          "execution_count": 22
        }
      ],
      "source": [
        "arr1.shape"
      ]
    },
    {
      "cell_type": "code",
      "execution_count": null,
      "id": "6d6d0a24",
      "metadata": {
        "id": "6d6d0a24",
        "outputId": "d9da2b80-9c19-4fdd-98e7-314234ee91f5",
        "colab": {
          "base_uri": "https://localhost:8080/"
        }
      },
      "outputs": [
        {
          "output_type": "execute_result",
          "data": {
            "text/plain": [
              "array([1, 2, 3, 4, 5, 2, 3, 4, 5, 6, 3, 4, 5, 6, 7])"
            ]
          },
          "metadata": {},
          "execution_count": 28
        }
      ],
      "source": [
        "arr1.reshape(15,)"
      ]
    },
    {
      "cell_type": "code",
      "execution_count": null,
      "id": "d1462081",
      "metadata": {
        "id": "d1462081",
        "outputId": "4d34d4ca-63c6-4cd2-84d4-6d82ff93df9e",
        "colab": {
          "base_uri": "https://localhost:8080/"
        }
      },
      "outputs": [
        {
          "output_type": "stream",
          "name": "stdout",
          "text": [
            "[[ 1  3  5  7  9]\n",
            " [11 13 15 17 19]]\n"
          ]
        }
      ],
      "source": [
        "##mechanism to create an array\n",
        "arr3=np.arange(1,21,2).reshape(2,5)\n",
        "print(arr3)"
      ]
    },
    {
      "cell_type": "code",
      "execution_count": null,
      "id": "ce3eada1",
      "metadata": {
        "id": "ce3eada1",
        "outputId": "623737df-579f-420c-a836-3b71d2a2d16a",
        "colab": {
          "base_uri": "https://localhost:8080/"
        }
      },
      "outputs": [
        {
          "output_type": "execute_result",
          "data": {
            "text/plain": [
              "array([[[ 1],\n",
              "        [ 3],\n",
              "        [ 5],\n",
              "        [ 7],\n",
              "        [ 9]],\n",
              "\n",
              "       [[11],\n",
              "        [13],\n",
              "        [15],\n",
              "        [17],\n",
              "        [19]]])"
            ]
          },
          "metadata": {},
          "execution_count": 36
        }
      ],
      "source": [
        "np.arange(1,20,2).reshape(2,5,1)"
      ]
    },
    {
      "cell_type": "code",
      "execution_count": null,
      "id": "be8061d2",
      "metadata": {
        "id": "be8061d2",
        "outputId": "6716fb88-8be9-4ad3-9053-51ce57b8b0d9",
        "colab": {
          "base_uri": "https://localhost:8080/"
        }
      },
      "outputs": [
        {
          "output_type": "execute_result",
          "data": {
            "text/plain": [
              "array([ 1,  4,  9, 16])"
            ]
          },
          "metadata": {},
          "execution_count": 38
        }
      ],
      "source": [
        "arr * arr"
      ]
    },
    {
      "cell_type": "code",
      "execution_count": null,
      "id": "558ee842",
      "metadata": {
        "id": "558ee842",
        "outputId": "1364e2bb-135c-4f52-f6fb-5c3858d64192",
        "colab": {
          "base_uri": "https://localhost:8080/"
        }
      },
      "outputs": [
        {
          "output_type": "execute_result",
          "data": {
            "text/plain": [
              "array([[ 1,  4,  9, 16, 25],\n",
              "       [ 4,  9, 16, 25, 36],\n",
              "       [ 9, 16, 25, 36, 49]])"
            ]
          },
          "metadata": {},
          "execution_count": 37
        }
      ],
      "source": [
        "arr1 * arr1"
      ]
    },
    {
      "cell_type": "code",
      "execution_count": null,
      "id": "bbe15cc2",
      "metadata": {
        "id": "bbe15cc2",
        "outputId": "741722bf-ef1c-4d53-d1d5-aeac53557590",
        "colab": {
          "base_uri": "https://localhost:8080/"
        }
      },
      "outputs": [
        {
          "output_type": "execute_result",
          "data": {
            "text/plain": [
              "array([[1., 1., 1.],\n",
              "       [1., 1., 1.],\n",
              "       [1., 1., 1.],\n",
              "       [1., 1., 1.],\n",
              "       [1., 1., 1.]])"
            ]
          },
          "metadata": {},
          "execution_count": 29
        }
      ],
      "source": [
        "np.ones((5,3))"
      ]
    },
    {
      "cell_type": "code",
      "execution_count": null,
      "id": "6533e57a",
      "metadata": {
        "id": "6533e57a",
        "outputId": "35d8c383-b4c8-4edf-deea-3b81b9cfcf1c",
        "colab": {
          "base_uri": "https://localhost:8080/"
        }
      },
      "outputs": [
        {
          "output_type": "execute_result",
          "data": {
            "text/plain": [
              "array([[0., 0., 0., 0., 0.],\n",
              "       [0., 0., 0., 0., 0.],\n",
              "       [0., 0., 0., 0., 0.],\n",
              "       [0., 0., 0., 0., 0.]])"
            ]
          },
          "metadata": {},
          "execution_count": 40
        }
      ],
      "source": [
        "np.zeros((4,5))"
      ]
    },
    {
      "cell_type": "code",
      "execution_count": null,
      "id": "b69c75d0",
      "metadata": {
        "id": "b69c75d0",
        "outputId": "74ef5e8c-20c2-4412-cbaf-b55051300524",
        "colab": {
          "base_uri": "https://localhost:8080/"
        }
      },
      "outputs": [
        {
          "output_type": "stream",
          "name": "stdout",
          "text": [
            "[[46 42]\n",
            " [30 31]]\n"
          ]
        }
      ],
      "source": [
        "arr4 = np.random.randint(10,50,4).reshape(2,2)\n",
        "print(arr4)"
      ]
    },
    {
      "cell_type": "code",
      "execution_count": null,
      "id": "1c57dfae",
      "metadata": {
        "id": "1c57dfae",
        "outputId": "8ab854a0-645c-483b-e732-c280cd0b5dab"
      },
      "outputs": [
        {
          "data": {
            "text/plain": [
              "array([[-1.81506768, -0.18073426,  1.50531807,  0.04701715,  0.00345232,\n",
              "        -1.89048526],\n",
              "       [-1.19316745, -0.8222509 , -0.11386853, -1.47422866,  2.28291196,\n",
              "         0.02731563],\n",
              "       [ 0.4027173 ,  0.02478252, -1.44510603, -0.99842738, -0.07634666,\n",
              "        -0.81335324],\n",
              "       [ 0.9692424 ,  1.41109806, -0.33335031,  1.18717669,  0.59522992,\n",
              "         0.88923165],\n",
              "       [ 1.10478558, -0.44639422,  0.06939313,  0.64813885,  0.54669759,\n",
              "        -0.19369955]])"
            ]
          },
          "execution_count": 79,
          "metadata": {},
          "output_type": "execute_result"
        }
      ],
      "source": [
        "np.random.randn(5,6)"
      ]
    },
    {
      "cell_type": "code",
      "execution_count": null,
      "id": "c4e377f7",
      "metadata": {
        "id": "c4e377f7",
        "outputId": "66f4e637-b3c9-4ab1-8403-3603709f0d19"
      },
      "outputs": [
        {
          "data": {
            "text/plain": [
              "array([[0.13871895, 0.58456466, 0.31541441, 0.67910295, 0.1837086 ,\n",
              "        0.08103746, 0.50976945],\n",
              "       [0.67483078, 0.41252643, 0.0877961 , 0.92338101, 0.25762097,\n",
              "        0.55850649, 0.26534539],\n",
              "       [0.05930126, 0.53209293, 0.90407746, 0.71743787, 0.89905166,\n",
              "        0.22360872, 0.10365036],\n",
              "       [0.36820358, 0.30483507, 0.49569278, 0.7850211 , 0.96484935,\n",
              "        0.72614993, 0.83010606]])"
            ]
          },
          "execution_count": 80,
          "metadata": {},
          "output_type": "execute_result"
        }
      ],
      "source": [
        "np.random.random_sample((4,7))"
      ]
    },
    {
      "cell_type": "markdown",
      "source": [
        "**Lab_Task** Write a NumPy program to create a 2D array with 1 on the border and 0 inside."
      ],
      "metadata": {
        "id": "mURQYhFP5InT"
      },
      "id": "mURQYhFP5InT"
    },
    {
      "cell_type": "code",
      "source": [],
      "metadata": {
        "id": "oBHaSy-748Xe"
      },
      "id": "oBHaSy-748Xe",
      "execution_count": null,
      "outputs": []
    },
    {
      "cell_type": "markdown",
      "source": [
        "**PostLabTask**\n",
        "Write a NumPy program to create an 8x8 matrix and fill it with a checkerboard pattern.\n",
        "Checkerboard pattern:\n",
        "[[0 1 0 1 0 1 0 1]\n",
        "..........\n",
        "[0 1 0 1 0 1 0 1]\n",
        "[1 0 1 0 1 0 1 0]]"
      ],
      "metadata": {
        "id": "hOy83twc6GT3"
      },
      "id": "hOy83twc6GT3"
    },
    {
      "cell_type": "code",
      "source": [],
      "metadata": {
        "id": "c8Iz_OJr6FQ1"
      },
      "id": "c8Iz_OJr6FQ1",
      "execution_count": null,
      "outputs": []
    }
  ],
  "metadata": {
    "kernelspec": {
      "display_name": "Python 3 (ipykernel)",
      "language": "python",
      "name": "python3"
    },
    "language_info": {
      "codemirror_mode": {
        "name": "ipython",
        "version": 3
      },
      "file_extension": ".py",
      "mimetype": "text/x-python",
      "name": "python",
      "nbconvert_exporter": "python",
      "pygments_lexer": "ipython3",
      "version": "3.9.7"
    },
    "colab": {
      "provenance": []
    }
  },
  "nbformat": 4,
  "nbformat_minor": 5
}