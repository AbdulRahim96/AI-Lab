{
  "nbformat": 4,
  "nbformat_minor": 0,
  "metadata": {
    "colab": {
      "provenance": []
    },
    "kernelspec": {
      "name": "python3",
      "display_name": "Python 3"
    },
    "language_info": {
      "name": "python"
    }
  },
  "cells": [
    {
      "cell_type": "markdown",
      "source": [
        "Simple Reflex Agent:"
      ],
      "metadata": {
        "id": "m--LIyYsDid1"
      }
    },
    {
      "cell_type": "code",
      "execution_count": null,
      "metadata": {
        "colab": {
          "base_uri": "https://localhost:8080/"
        },
        "id": "ZSX6xj0sEKgg",
        "outputId": "5298c964-0679-48cf-b4ce-915a4a254815"
      },
      "outputs": [
        {
          "output_type": "stream",
          "name": "stdout",
          "text": [
            "MENU: \n",
            " 0: Anum   1: Taimur  2: Ali  3: Saad\n",
            "Input Number: 3\n",
            "watch football\n"
          ]
        }
      ],
      "source": [
        "\n",
        "\n",
        "# List of possible perceptions\n",
        "percept = [\"Anum\", \"Taimur\", \"Ali\", \"Saad\"]\n",
        "\n",
        "# List of possible states\n",
        "state = [\"happy\", \"sad\", \"angry\", \"normal\"]\n",
        "\n",
        "# List of corresponding rules\n",
        "rule = [\"smile\", \"cry\", \"frown\", \"watch football\"]\n",
        "\n",
        "# Function to get the state based on the perception\n",
        "def GetState(cPercept):\n",
        "    index = -1\n",
        "    for p in percept:\n",
        "        index = index + 1   #index is 0\n",
        "        if p == cPercept:\n",
        "            return state[index]  # Return the corresponding state\n",
        "\n",
        "# Function to get the rule based on the state\n",
        "def GetRule(cState):\n",
        "    index = -1\n",
        "    for s in state:\n",
        "        index = index + 1\n",
        "        if s == cState:\n",
        "            return rule[index]  # Return the corresponding rule\n",
        "\n",
        "# Function for the simple reflex agent\n",
        "def SimpleReflexAgent(cPercept):\n",
        "    return GetRule(GetState(cPercept))  # Get the rule based on the perception\n",
        "\n",
        "# Display the menu\n",
        "print(\"MENU: \")\n",
        "print(\" 0: Anum   1: Taimur  2: Ali  3: Saad\")\n",
        "\n",
        "# Take user input for perception\n",
        "input_number = int(input(\"Input Number: \"))\n",
        "\n",
        "# Get the rule based on the selected perception and print it\n",
        "print(SimpleReflexAgent(percept[input_number]))"
      ]
    },
    {
      "cell_type": "code",
      "source": [],
      "metadata": {
        "id": "Cp2n5qBWFnJE"
      },
      "execution_count": null,
      "outputs": []
    },
    {
      "cell_type": "markdown",
      "source": [
        "Consider a vacuum agent designed to operate in a 5-cell environment. Each cell can either be clean or dirty. The agent moves through each cell, cleaning any dirty cells it encounters."
      ],
      "metadata": {
        "id": "QeDhRoCkwX1f"
      }
    },
    {
      "cell_type": "code",
      "source": [
        "class VacuumAgent:\n",
        "    def __init__(self):\n",
        "        self.location = 0  # Initial location of the agent\n",
        "        self.environment = ['dirty','clean','clean','dirty','dirty']  # Initialize a 5-cell environment, initially dirty\n",
        "\n",
        "    def sense(self):\n",
        "        return self.environment[self.location]  # Sense the current location's cleanliness\n",
        "\n",
        "    def act(self):\n",
        "        if self.sense() == 'dirty':\n",
        "          self.clean()\n",
        "          self.location += 1\n",
        "        else:\n",
        "          self.move()\n",
        "\n",
        "    def clean(self):\n",
        "        print(\"Cleaning cell\", self.location)\n",
        "        self.environment[self.location] = 'clean'\n",
        "          # Mark the current cell as clean\n",
        "\n",
        "    def move(self):\n",
        "        print(\"Moving to the next cell\")\n",
        "        self.location = (self.location + 1) % len(self.environment)  # Move to the next cell cyclically\n",
        "\n",
        "\n",
        "# Test the agent\n",
        "def test_agent():\n",
        "    agent = VacuumAgent()\n",
        "    print(\"Initial environment:\", agent.environment)\n",
        "    while 'dirty' in agent.environment:  # Continue until all cells are clean\n",
        "        agent.act()\n",
        "    print(\"Final environment:\", agent.environment)\n",
        "\n",
        "if __name__ == \"__main__\":\n",
        "    test_agent()"
      ],
      "metadata": {
        "colab": {
          "base_uri": "https://localhost:8080/"
        },
        "id": "xeq2l8zHjIUE",
        "outputId": "8d6cf3ec-0a2e-4c10-c076-fc9165b7eb52"
      },
      "execution_count": null,
      "outputs": [
        {
          "output_type": "stream",
          "name": "stdout",
          "text": [
            "Initial environment: ['dirty', 'clean', 'clean', 'dirty', 'dirty']\n",
            "Cleaning cell 0\n",
            "Moving to the next cell\n",
            "Moving to the next cell\n",
            "Cleaning cell 3\n",
            "Cleaning cell 4\n",
            "Final environment: ['clean', 'clean', 'clean', 'clean', 'clean']\n"
          ]
        }
      ]
    },
    {
      "cell_type": "code",
      "source": [],
      "metadata": {
        "id": "0u21I9bttRom"
      },
      "execution_count": null,
      "outputs": []
    },
    {
      "cell_type": "markdown",
      "source": [
        "Model Based Reflex Agent"
      ],
      "metadata": {
        "id": "uz7rxOaNBRO-"
      }
    },
    {
      "cell_type": "code",
      "source": [
        "class ModelBasedVacuumAgent:\n",
        "    def __init__(self):\n",
        "        self.location = 0  # Initial location of the agent\n",
        "        self.environment = ['dirty', 'clean', 'clean', 'dirty','dirty']  # Initialize a 5-cell environment, initially dirty\n",
        "        self.model = ['unknown'] * len(self.environment)  # Initialize model of the environment, initially unknown\n",
        "\n",
        "    def sense(self):\n",
        "        return self.environment[self.location]  # Sense the current location's cleanliness\n",
        "\n",
        "    def update_model(self):\n",
        "        self.model[self.location] = self.environment[self.location]  # Update the model based on current observation\n",
        "\n",
        "    def act(self):\n",
        "        if self.sense() == 'dirty':\n",
        "            self.clean()\n",
        "        else:\n",
        "            self.move()\n",
        "\n",
        "    def clean(self):\n",
        "        print(\"Cleaning cell\", self.location)\n",
        "        self.environment[self.location] = 'clean'  # Mark the current cell as clean\n",
        "        self.update_model()\n",
        "\n",
        "    def move(self):\n",
        "        print(\"Moving to the next cell\")\n",
        "        self.location = (self.location + 1) % len(self.environment)  # Move to the next cell cyclically\n",
        "        self.update_model()\n",
        "\n",
        "    # Test the agent\n",
        "def test_agent():\n",
        "    agent = ModelBasedVacuumAgent()\n",
        "    print(\"Initial environment:\", agent.environment)\n",
        "    print(\"Initial model:\", agent.model)\n",
        "    while 'dirty' in agent.environment:  # Continue until all cells are clean\n",
        "        agent.act()\n",
        "    print(\"Final environment:\", agent.environment)\n",
        "    print(\"Final model:\", agent.model)\n",
        "\n",
        "\n",
        "if __name__ == \"__main__\":\n",
        "    test_agent()\n"
      ],
      "metadata": {
        "colab": {
          "base_uri": "https://localhost:8080/"
        },
        "id": "EOz5KNOPBVID",
        "outputId": "203a6003-1096-4758-c419-ed68de82118a"
      },
      "execution_count": null,
      "outputs": [
        {
          "output_type": "stream",
          "name": "stdout",
          "text": [
            "Initial environment: ['dirty', 'clean', 'clean', 'dirty', 'dirty']\n",
            "Initial model: ['unknown', 'unknown', 'unknown', 'unknown', 'unknown']\n",
            "Cleaning cell 0\n",
            "Moving to the next cell\n",
            "Moving to the next cell\n",
            "Moving to the next cell\n",
            "Cleaning cell 3\n",
            "Moving to the next cell\n",
            "Cleaning cell 4\n",
            "Final environment: ['clean', 'clean', 'clean', 'clean', 'clean']\n",
            "Final model: ['clean', 'clean', 'clean', 'clean', 'clean']\n"
          ]
        }
      ]
    }
  ]
}