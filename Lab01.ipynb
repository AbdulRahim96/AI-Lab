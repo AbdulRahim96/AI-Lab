{
  "nbformat": 4,
  "nbformat_minor": 0,
  "metadata": {
    "colab": {
      "provenance": [],
      "authorship_tag": "ABX9TyOkcwBUlLuyDF/maAtWtIUu",
      "include_colab_link": true
    },
    "kernelspec": {
      "name": "python3",
      "display_name": "Python 3"
    },
    "language_info": {
      "name": "python"
    }
  },
  "cells": [
    {
      "cell_type": "markdown",
      "metadata": {
        "id": "view-in-github",
        "colab_type": "text"
      },
      "source": [
        "<a href=\"https://colab.research.google.com/github/AbdulRahim96/AI-Lab/blob/main/Lab01.ipynb\" target=\"_parent\"><img src=\"https://colab.research.google.com/assets/colab-badge.svg\" alt=\"Open In Colab\"/></a>"
      ]
    },
    {
      "cell_type": "markdown",
      "source": [
        "# Lab task"
      ],
      "metadata": {
        "id": "Hx4I29HTVr03"
      }
    },
    {
      "cell_type": "code",
      "execution_count": null,
      "metadata": {
        "id": "gcji0A8zVqM4"
      },
      "outputs": [],
      "source": [
        "daily_expenses = [80, 100, 90, 120, 110, 130, 70, 150, 140, 160, 200, 180, 190, 210, 220, 250, 240, 230, 270, 260, 280, 300, 320, 310, 340, 330, 350, 370, 360, 380]\n",
        "\n",
        "# using negative indexing, and assuming after every -7th index is a weekend (sunday is a weekend only)\n",
        "total = 0\n",
        "for i in daily_expenses[ -1: :-7]:\n",
        " total += i\n",
        "\n",
        "print(\"Total expenses:\", total, \"pkr\")"
      ]
    },
    {
      "cell_type": "markdown",
      "source": [
        "# Post Lab Task"
      ],
      "metadata": {
        "id": "mdoq-y7ZVzVv"
      }
    },
    {
      "cell_type": "code",
      "source": [
        "sales_data = [1200, 1500, 1400, 1600, 1800, 1900, 2000, 2200, 2100, 2300, 2400, 2500, 2600, 2700, 2800, 2900, 3000, 3100, 3200, 3300, 3400, 3500, 3600, 3700, 3800, 3900, 4000, 4100, 4200, 4300]\n",
        "print(\"total days of sales: \",len(sales_data))\n",
        "\n",
        "# using negative indexing, and assuming after every -7th index is a weekend (sunday is a weekend only)\n",
        "total = 0\n",
        "for i in sales_data[ -1: :-7]:\n",
        " total += i\n",
        "\n",
        "print(\"Total weekand sales:\", total, \"pkr\")"
      ],
      "metadata": {
        "id": "kB8QbxAAV6gf"
      },
      "execution_count": null,
      "outputs": []
    }
  ]
}