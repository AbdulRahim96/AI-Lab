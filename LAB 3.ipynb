{
  "nbformat": 4,
  "nbformat_minor": 0,
  "metadata": {
    "colab": {
      "provenance": [],
      "authorship_tag": "ABX9TyN5/jUvB5oPlQHKrYQU8FNn",
      "include_colab_link": true
    },
    "kernelspec": {
      "name": "python3",
      "display_name": "Python 3"
    },
    "language_info": {
      "name": "python"
    }
  },
  "cells": [
    {
      "cell_type": "markdown",
      "metadata": {
        "id": "view-in-github",
        "colab_type": "text"
      },
      "source": [
        "<a href=\"https://colab.research.google.com/github/AbdulRahim96/AI-Lab/blob/main/LAB%203.ipynb\" target=\"_parent\"><img src=\"https://colab.research.google.com/assets/colab-badge.svg\" alt=\"Open In Colab\"/></a>"
      ]
    },
    {
      "cell_type": "markdown",
      "source": [
        "POST LAB 1"
      ],
      "metadata": {
        "id": "JvYBJULinosz"
      }
    },
    {
      "cell_type": "code",
      "source": [
        "# Calculating Age from Date of birth\n",
        "class person:\n",
        "\n",
        "\n",
        "    def __init__(self, name, country, date_of_birth):\n",
        "        self.name = name\n",
        "        self.country = country\n",
        "        self.date_of_birth = date_of_birth\n",
        "\n",
        "    def age(self):\n",
        "        # Assuming date_of_birth is in the format \"DD/MM/YYYY. so i will be getting string from 6 to end string\"\n",
        "        birth_year = int(self.date_of_birth[6:])\n",
        "        current_year = 2024\n",
        "        age = current_year - birth_year\n",
        "        print(\"Age of \", self.name, \" is\", age)\n",
        "\n",
        "obj = person(\"rahim\", \"Pakistan\", \"03/08/1996\")\n",
        "print(obj.age())"
      ],
      "metadata": {
        "colab": {
          "base_uri": "https://localhost:8080/"
        },
        "id": "de5CzXwPnuCT",
        "outputId": "7dcf2536-ccc2-44fe-90b2-32f065437def"
      },
      "execution_count": 3,
      "outputs": [
        {
          "output_type": "stream",
          "name": "stdout",
          "text": [
            "Age of  rahim  is 28\n",
            "None\n"
          ]
        }
      ]
    },
    {
      "cell_type": "markdown",
      "source": [
        "POST LAB 2"
      ],
      "metadata": {
        "id": "nUIC97Lznxuy"
      }
    },
    {
      "cell_type": "code",
      "execution_count": 5,
      "metadata": {
        "colab": {
          "base_uri": "https://localhost:8080/"
        },
        "id": "Z3Rxrk4zkQLA",
        "outputId": "ececcd5f-b032-43f3-8629-6624b3233842"
      },
      "outputs": [
        {
          "output_type": "stream",
          "name": "stdout",
          "text": [
            "1\n",
            "2\n",
            "4\n",
            "9\n",
            "20\n",
            "searching for:  2\n",
            "Search Result:  True\n"
          ]
        }
      ],
      "source": [
        "# Binary search tree\n",
        "class Node:\n",
        "    left = None\n",
        "    right = None\n",
        "\n",
        "    def __init__(self, key):\n",
        "        self.key = key\n",
        "\n",
        "\n",
        "class Tree:\n",
        "\n",
        "    def __init__(self):\n",
        "        self.root = None\n",
        "\n",
        "    def insert(self, val):\n",
        "        self.root = self.insertRecursive(self.root, val)\n",
        "\n",
        "    def insertRecursive(self, root, val):\n",
        "        if(root is None):\n",
        "            return Node(val)\n",
        "\n",
        "        if(val > root.key):\n",
        "            root.right = self.insertRecursive(root.right, val)\n",
        "        elif(val < root.key):\n",
        "            root.left = self.insertRecursive(root.left, val)\n",
        "\n",
        "        return root\n",
        "\n",
        "    def traversing(self):\n",
        "        self.traverse(self.root)\n",
        "\n",
        "    def traverse(self, root):\n",
        "        if root is not None:\n",
        "            self.traverse(root.left)\n",
        "            print(root.key)\n",
        "            self.traverse(root.right)\n",
        "\n",
        "    def search(self, val):\n",
        "        print(\"searching for: \", val)\n",
        "        return self.insertRecursiveSearch(self.root, val)\n",
        "\n",
        "    def insertRecursiveSearch(self, parent, val):\n",
        "        if(parent is None):\n",
        "            return False\n",
        "        elif(parent.key == val):\n",
        "            return True\n",
        "\n",
        "        if(val < parent.key):\n",
        "            return self.insertRecursiveSearch(parent.left, val)\n",
        "        elif(val > parent.key):\n",
        "            return self.insertRecursiveSearch(parent.right, val)\n",
        "\n",
        "tree = Tree()\n",
        "tree.insert(2)\n",
        "tree.insert(4)\n",
        "tree.insert(9)\n",
        "tree.insert(1)\n",
        "tree.insert(20)\n",
        "tree.traverse(tree.root)\n",
        "print(\"Search Result: \", tree.search(2))"
      ]
    }
  ]
}