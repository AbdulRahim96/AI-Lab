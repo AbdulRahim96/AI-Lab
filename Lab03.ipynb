{
  "nbformat": 4,
  "nbformat_minor": 0,
  "metadata": {
    "colab": {
      "provenance": [],
      "authorship_tag": "ABX9TyN9AbXXvj7w9guyh0+oU2ms",
      "include_colab_link": true
    },
    "kernelspec": {
      "name": "python3",
      "display_name": "Python 3"
    },
    "language_info": {
      "name": "python"
    }
  },
  "cells": [
    {
      "cell_type": "markdown",
      "metadata": {
        "id": "view-in-github",
        "colab_type": "text"
      },
      "source": [
        "<a href=\"https://colab.research.google.com/github/AbdulRahim96/AI-Lab/blob/main/Lab03.ipynb\" target=\"_parent\"><img src=\"https://colab.research.google.com/assets/colab-badge.svg\" alt=\"Open In Colab\"/></a>"
      ]
    },
    {
      "cell_type": "markdown",
      "source": [
        "LAB TASK 1"
      ],
      "metadata": {
        "id": "xEgZKzo7pZiT"
      }
    },
    {
      "cell_type": "code",
      "source": [
        "# Define a class called Bank to implement a simple banking system\n",
        "class Bank:\n",
        "    # Initialize the bank with an empty dictionary to store customer accounts and balances\n",
        "    def __init__(self):\n",
        "        self.customers = {}\n",
        "\n",
        "    # Create a new account with a given account number and an optional initial balance (default to 0)\n",
        "    def create_account(self, account_number, initial_balance=0):\n",
        "        if account_number in self.customers:\n",
        "            print(\"Account number already exists.\")\n",
        "        else:\n",
        "            self.customers[account_number] = initial_balance\n",
        "            print(\"Account created successfully.\")\n",
        "\n",
        "    # Make a deposit to the account with the given account number\n",
        "    def make_deposit(self, account_number, amount):\n",
        "        if account_number in self.customers:\n",
        "            self.customers[account_number] += amount\n",
        "            print(\"Deposit successful.\")\n",
        "        else:\n",
        "            print(\"Account number does not exist.\")\n",
        "\n",
        "    # Make a withdrawal from the account with the given account number\n",
        "    def make_withdrawal(self, account_number, amount):\n",
        "        if account_number in self.customers:\n",
        "            if self.customers[account_number] >= amount:\n",
        "                self.customers[account_number] -= amount\n",
        "                print(\"Withdrawal successful.\")\n",
        "            else:\n",
        "                print(\"Insufficient funds.\")\n",
        "        else:\n",
        "            print(\"Account number does not exist.\")\n",
        "\n",
        "    # Check and print the balance of the account with the given account number\n",
        "    def check_balance(self, account_number):\n",
        "        if account_number in self.customers:\n",
        "            balance = self.customers[account_number]\n",
        "            print(f\"Account balance: {balance}\")\n",
        "        else:\n",
        "            print(\"Account number does not exist.\")\n",
        "\n",
        "# Example usage\n",
        "# Create an instance of the Bank class\n",
        "bank = Bank()\n",
        "\n",
        "# Create customer accounts and perform account operations\n",
        "acno1= \"SB-123\"\n",
        "damt1 = 1000\n",
        "print(\"New a/c No.: \",acno1,\"Deposit Amount:\",damt1)\n",
        "bank.create_account(acno1, damt1)\n",
        "\n",
        "acno2= \"SB-124\"\n",
        "damt2 = 1500\n",
        "print(\"New a/c No.: \",acno2,\"Deposit Amount:\",damt2)\n",
        "bank.create_account(acno2, damt2)\n",
        "\n",
        "wamt1 = 600\n",
        "print(\"\\nDeposit Rs.\",wamt1,\"to A/c No.\",acno1)\n",
        "bank.make_deposit(acno1, wamt1)\n",
        "\n",
        "wamt2 = 350\n",
        "print(\"Withdraw Rs.\",wamt2,\"From A/c No.\",acno2)\n",
        "bank.make_withdrawal(acno2, wamt2)\n",
        "\n",
        "print(\"A/c. No.\",acno1)\n",
        "bank.check_balance(acno1)\n",
        "\n",
        "print(\"A/c. No.\",acno2)\n",
        "bank.check_balance(acno2)\n",
        "\n",
        "wamt3 = 1200\n",
        "print(\"Withdraw Rs.\",wamt3,\"From A/c No.\",acno2)\n",
        "bank.make_withdrawal(acno2, wamt3)\n",
        "\n",
        "acno3 = \"SB-134\"\n",
        "print(\"A/c. No.\",acno3)\n",
        "bank.check_balance(acno3)  # Non-existent account number"
      ],
      "metadata": {
        "colab": {
          "base_uri": "https://localhost:8080/"
        },
        "id": "4ckBKXSGpezr",
        "outputId": "0c2666a2-6c1f-487c-b558-9490da26d2bc"
      },
      "execution_count": 6,
      "outputs": [
        {
          "output_type": "stream",
          "name": "stdout",
          "text": [
            "New a/c No.:  SB-123 Deposit Amount: 1000\n",
            "Account created successfully.\n",
            "New a/c No.:  SB-124 Deposit Amount: 1500\n",
            "Account created successfully.\n",
            "\n",
            "Deposit Rs. 600 to A/c No. SB-123\n",
            "Deposit successful.\n",
            "Withdraw Rs. 350 From A/c No. SB-124\n",
            "Withdrawal successful.\n",
            "A/c. No. SB-123\n",
            "Account balance: 1600\n",
            "A/c. No. SB-124\n",
            "Account balance: 1150\n",
            "Withdraw Rs. 1200 From A/c No. SB-124\n",
            "Insufficient funds.\n",
            "A/c. No. SB-134\n",
            "Account number does not exist.\n"
          ]
        }
      ]
    },
    {
      "cell_type": "markdown",
      "source": [
        "LAB TASK 2"
      ],
      "metadata": {
        "id": "iNalNDXkphg6"
      }
    },
    {
      "cell_type": "code",
      "source": [
        "# Define a class called Stack to implement a stack data structure\n",
        "class Stack:\n",
        "    # Initialize the stack with an empty list to store items\n",
        "    def __init__(self):\n",
        "        self.items = []\n",
        "\n",
        "    # Push an item onto the stack\n",
        "    def push(self, item):\n",
        "        self.items.append(item)\n",
        "\n",
        "    # Pop (remove and return) an item from the stack if the stack is not empty\n",
        "    def pop(self):\n",
        "        if not self.is_empty():\n",
        "            return self.items.pop()\n",
        "        else:\n",
        "            return \"Cannot pop from an empty stack.\"\n",
        "\n",
        "    # Check if the stack is empty\n",
        "    def is_empty(self):\n",
        "        return len(self.items) == 0\n",
        "\n",
        "    # Get the number of items in the stack\n",
        "    def size(self):\n",
        "        return len(self.items)\n",
        "\n",
        "    # Peek at the top item of the stack without removing it, if the stack is not empty\n",
        "    def peek(self):\n",
        "        if not self.is_empty():\n",
        "            return self.items[-1]\n",
        "        else:\n",
        "            return \"Empty stack.\"\n",
        "\n",
        "# Example usage\n",
        "# Create an instance of the Stack class\n",
        "stack = Stack()\n",
        "\n",
        "# Push items onto the stack\n",
        "stack.push(0)\n",
        "stack.push(1)\n",
        "stack.push(2)\n",
        "stack.push(3)\n",
        "stack.push(4)\n",
        "\n",
        "# Print the size of the stack and the top element\n",
        "print(\"Stack size:\", stack.size())\n",
        "print(\"Top element:\", stack.peek())\n",
        "\n",
        "# Pop an item from the stack, and print the popped item, and the updated size and top element\n",
        "popped_item = stack.pop()\n",
        "print(\"\\nPopped item:\", popped_item)\n",
        "print(\"\\nStack size:\", stack.size())\n",
        "print(\"Top element:\", stack.peek())\n",
        "\n",
        "#----------------------------------------\n",
        "# Create another instance of the Stack class\n",
        "stack1 = Stack()\n",
        "\n",
        "# Print the size of the empty stack and attempt to pop an item (with an error message)\n",
        "print(\"\\nStack size:\", stack1.size())\n",
        "popped_item = stack1.pop()\n",
        "print(\"\\nPopped item:\", popped_item)"
      ],
      "metadata": {
        "colab": {
          "base_uri": "https://localhost:8080/"
        },
        "id": "jqCRy4aYpkC6",
        "outputId": "04eefad6-4c6d-47d5-8ea2-5ea5d44a67f3"
      },
      "execution_count": 7,
      "outputs": [
        {
          "output_type": "stream",
          "name": "stdout",
          "text": [
            "Stack size: 5\n",
            "Top element: 4\n",
            "\n",
            "Popped item: 4\n",
            "\n",
            "Stack size: 4\n",
            "Top element: 3\n",
            "\n",
            "Stack size: 0\n",
            "\n",
            "Popped item: Cannot pop from an empty stack.\n"
          ]
        }
      ]
    },
    {
      "cell_type": "markdown",
      "source": [
        "# POST LAB 1"
      ],
      "metadata": {
        "id": "JvYBJULinosz"
      }
    },
    {
      "cell_type": "code",
      "source": [
        "# Calculating Age from Date of birth\n",
        "class person:\n",
        "\n",
        "\n",
        "    def __init__(self, name, country, date_of_birth):\n",
        "        self.name = name\n",
        "        self.country = country\n",
        "        self.date_of_birth = date_of_birth\n",
        "\n",
        "    def age(self):\n",
        "        # Assuming date_of_birth is in the format \"DD/MM/YYYY. so i will be getting string from 6 to end string\"\n",
        "        birth_year = int(self.date_of_birth[6:])\n",
        "        current_year = 2024\n",
        "        age = current_year - birth_year\n",
        "        print(\"Age of \", self.name, \" is\", age)\n",
        "\n",
        "obj = person(\"rahim\", \"Pakistan\", \"03/08/1996\")\n",
        "print(obj.age())"
      ],
      "metadata": {
        "colab": {
          "base_uri": "https://localhost:8080/"
        },
        "id": "de5CzXwPnuCT",
        "outputId": "7dcf2536-ccc2-44fe-90b2-32f065437def"
      },
      "execution_count": 3,
      "outputs": [
        {
          "output_type": "stream",
          "name": "stdout",
          "text": [
            "Age of  rahim  is 28\n",
            "None\n"
          ]
        }
      ]
    },
    {
      "cell_type": "markdown",
      "source": [
        "# POST LAB 2\n",
        "\n"
      ],
      "metadata": {
        "id": "nUIC97Lznxuy"
      }
    },
    {
      "cell_type": "code",
      "execution_count": 5,
      "metadata": {
        "colab": {
          "base_uri": "https://localhost:8080/"
        },
        "id": "Z3Rxrk4zkQLA",
        "outputId": "ececcd5f-b032-43f3-8629-6624b3233842"
      },
      "outputs": [
        {
          "output_type": "stream",
          "name": "stdout",
          "text": [
            "1\n",
            "2\n",
            "4\n",
            "9\n",
            "20\n",
            "searching for:  2\n",
            "Search Result:  True\n"
          ]
        }
      ],
      "source": [
        "# Binary search tree\n",
        "class Node:\n",
        "    left = None\n",
        "    right = None\n",
        "\n",
        "    def __init__(self, key):\n",
        "        self.key = key\n",
        "\n",
        "\n",
        "class Tree:\n",
        "\n",
        "    def __init__(self):\n",
        "        self.root = None\n",
        "\n",
        "    def insert(self, val):\n",
        "        self.root = self.insertRecursive(self.root, val)\n",
        "\n",
        "    def insertRecursive(self, root, val):\n",
        "        if(root is None):\n",
        "            return Node(val)\n",
        "\n",
        "        if(val > root.key):\n",
        "            root.right = self.insertRecursive(root.right, val)\n",
        "        elif(val < root.key):\n",
        "            root.left = self.insertRecursive(root.left, val)\n",
        "\n",
        "        return root\n",
        "\n",
        "    def traversing(self):\n",
        "        self.traverse(self.root)\n",
        "\n",
        "    def traverse(self, root):\n",
        "        if root is not None:\n",
        "            self.traverse(root.left)\n",
        "            print(root.key)\n",
        "            self.traverse(root.right)\n",
        "\n",
        "    def search(self, val):\n",
        "        print(\"searching for: \", val)\n",
        "        return self.insertRecursiveSearch(self.root, val)\n",
        "\n",
        "    def insertRecursiveSearch(self, parent, val):\n",
        "        if(parent is None):\n",
        "            return False\n",
        "        elif(parent.key == val):\n",
        "            return True\n",
        "\n",
        "        if(val < parent.key):\n",
        "            return self.insertRecursiveSearch(parent.left, val)\n",
        "        elif(val > parent.key):\n",
        "            return self.insertRecursiveSearch(parent.right, val)\n",
        "\n",
        "tree = Tree()\n",
        "tree.insert(2)\n",
        "tree.insert(4)\n",
        "tree.insert(9)\n",
        "tree.insert(1)\n",
        "tree.insert(20)\n",
        "tree.traverse(tree.root)\n",
        "print(\"Search Result: \", tree.search(2))"
      ]
    }
  ]
}