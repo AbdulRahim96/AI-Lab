{
  "nbformat": 4,
  "nbformat_minor": 0,
  "metadata": {
    "colab": {
      "provenance": []
    },
    "kernelspec": {
      "name": "python3",
      "display_name": "Python 3"
    },
    "language_info": {
      "name": "python"
    }
  },
  "cells": [
    {
      "cell_type": "markdown",
      "source": [
        "TASK 1"
      ],
      "metadata": {
        "id": "vxRxqTAx87_W"
      }
    },
    {
      "cell_type": "code",
      "execution_count": 2,
      "metadata": {
        "colab": {
          "base_uri": "https://localhost:8080/"
        },
        "id": "2f6Cu0UR85X_",
        "outputId": "cbc294b9-65fd-4bd1-911d-83f14e4d3d15"
      },
      "outputs": [
        {
          "output_type": "stream",
          "name": "stdout",
          "text": [
            "Parameter:  12.56\n",
            "Area:  12.56\n"
          ]
        }
      ],
      "source": [
        "class Circle:\n",
        "    def __init__(self, radius):\n",
        "        self.radius = radius\n",
        "    def area(self):\n",
        "        return self.radius * self.radius * 3.14\n",
        "    def perimeter(self):\n",
        "        return 2 * self.radius * 3.14\n",
        "\n",
        "cir = Circle(2)\n",
        "print(\"Parameter: \", cir.perimeter())\n",
        "print(\"Area: \", cir.area())"
      ]
    },
    {
      "cell_type": "markdown",
      "source": [
        "TASK 2"
      ],
      "metadata": {
        "id": "n_wUq3rV9UHN"
      }
    },
    {
      "cell_type": "code",
      "source": [
        "evenlist = [2,4,6,8,10,12,14,16,18,20]\n",
        "print(\"Series: \", evenlist)\n",
        "# get odd indices from evenlist\n",
        "oddlist = evenlist\n",
        "\n",
        "index = 0\n",
        "for i in oddlist:\n",
        "    oddlist[index] = i - 1\n",
        "    index = index + 1\n",
        "\n",
        "print(\"Oddlist: \", oddlist)"
      ],
      "metadata": {
        "colab": {
          "base_uri": "https://localhost:8080/"
        },
        "id": "O22OnX709VrK",
        "outputId": "ff8ebb34-7151-482d-f9ac-ab2ba52384e0"
      },
      "execution_count": 3,
      "outputs": [
        {
          "output_type": "stream",
          "name": "stdout",
          "text": [
            "Series:  [2, 4, 6, 8, 10, 12, 14, 16, 18, 20]\n",
            "Oddlist:  [1, 3, 5, 7, 9, 11, 13, 15, 17, 19]\n"
          ]
        }
      ]
    },
    {
      "cell_type": "markdown",
      "source": [
        "TASK 3"
      ],
      "metadata": {
        "id": "icPrR4q59iK3"
      }
    },
    {
      "cell_type": "code",
      "source": [
        "import pandas as pd\n",
        "\n",
        "series = pd.Series([1,2,3,4,5,6])\n",
        "\n",
        "def function(ser):\n",
        "    for x in ser:\n",
        "        ans = x/2 # f(x) = x/2\n",
        "        print(ans)\n",
        "\n",
        "function(series)"
      ],
      "metadata": {
        "colab": {
          "base_uri": "https://localhost:8080/"
        },
        "id": "7DXkMhpp9jX0",
        "outputId": "e8475044-21f3-4e1c-e622-4b6601a9015f"
      },
      "execution_count": 5,
      "outputs": [
        {
          "output_type": "stream",
          "name": "stdout",
          "text": [
            "0.5\n",
            "1.0\n",
            "1.5\n",
            "2.0\n",
            "2.5\n",
            "3.0\n"
          ]
        }
      ]
    },
    {
      "cell_type": "markdown",
      "source": [
        "TASK 4"
      ],
      "metadata": {
        "id": "1SOoKxg691PL"
      }
    },
    {
      "cell_type": "code",
      "source": [
        "import numpy as np\n",
        "\n",
        "# create array of values 1 and 0\n",
        "array = np.array([1,0,1,0,1,0,1,0,1,0])\n",
        "print(array)\n",
        "# convert this array to boolean array\n",
        "bool_array = array.astype(bool)\n",
        "print(bool_array)"
      ],
      "metadata": {
        "colab": {
          "base_uri": "https://localhost:8080/"
        },
        "id": "gWQOXdF893UV",
        "outputId": "ef5fc164-c877-4e54-c06f-f8319bae929d"
      },
      "execution_count": 6,
      "outputs": [
        {
          "output_type": "stream",
          "name": "stdout",
          "text": [
            "[1 0 1 0 1 0 1 0 1 0]\n",
            "[ True False  True False  True False  True False  True False]\n"
          ]
        }
      ]
    }
  ]
}